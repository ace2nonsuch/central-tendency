{
 "cells": [
  {
   "cell_type": "markdown",
   "id": "f6be9464",
   "metadata": {},
   "source": [
    "### Task1– Mean, Median & Mode\n",
    "1: Class Test Scores\n",
    "The following are the Mathematics test scores (out of 20) for a class of 15 students:\n",
    " 5, 8, 10, 12, 12, 12, 13, 14, 14, 15, 16, 18, 18, 20, 20\n",
    "Find the mean, median, and mode of the scores.\n",
    "\n",
    "\n",
    "If the lowest score (5) was wrongly recorded and should have been 10, how would the mean change? Would the median or mode change? Explain.\n",
    "\n",
    "\n",
    "2: Daily Commute Times\n",
    "A group of 9 students reported the time (in minutes) it takes them to get to school each day:\n",
    " 15, 20, 20, 25, 25, 30, 60, 65, 120\n",
    "Find the mean, median, and mode of the data.\n",
    "\n",
    "\n",
    "Which measure (mean, median, or mode) do you think best represents the “typical” time it takes students to get to school? Why?\n",
    " (Hint: Think about the effect of the student who takes 120 minutes.)\n",
    "\n",
    "\n",
    "3: Shoe Sizes\n",
    "The shoe sizes of students in a class are:\n",
    " 38, 39, 38, 40, 41, 42, 39, 39, 40, 38, 37, 39, 40, 41, 42\n",
    "Find the mode of the data.\n",
    "\n",
    "\n",
    "If a shoe company wants to donate free shoes, which size should they produce most of? Why?\n",
    "\n",
    "\n",
    "What if they only want to produce one size that would fit the \"average\" student? Should they use mean, median, or mode? Defend your answer.\n",
    "\n"
   ]
  },
  {
   "cell_type": "markdown",
   "id": "fca7c0ba",
   "metadata": {},
   "source": [
    "### Answer\n",
    "\n",
    "1. Class Test Scores\n"
   ]
  },
  {
   "cell_type": "code",
   "execution_count": null,
   "id": "8d497354",
   "metadata": {},
   "outputs": [
    {
     "name": "stdout",
     "output_type": "stream",
     "text": [
      "Mean: 13.8\n",
      "Median: 14\n",
      "Mode: 12\n"
     ]
    }
   ],
   "source": [
    "# measure of central tendency\n",
    "import statistics    # to use built-in functions\n",
    "data1 = [5, 8, 10, 12, 12, 12, 13, 14, 14, 15, 16, 18, 18, 20, 20] # sample data\n",
    "\n",
    "# To calculate mean and median\n",
    "print(\"Mean:\", statistics.mean(data1))\n",
    "print(\"Median:\", statistics.median(data1))\n",
    "\n",
    "# to calculate mode\n",
    "import numpy as np\n",
    "print(\"Mode:\", statistics.mode(data1))\n",
    " \n",
    " \n",
    "\n"
   ]
  },
  {
   "cell_type": "markdown",
   "id": "28e360fd",
   "metadata": {},
   "source": [
    "2. If the lowest score (5) was wrongly recorded and should have been 10, how would the mean change? Would the median or mode change? Explain.\n",
    "### MEAN -Since the Mean take all vales into consideration, the mean will increase slightly\n",
    "### MEDIAN - The median is not affected since it only looks at the middle values\n",
    "### MODE - The is not affected since 12 occurs 3 times and the new data make 10 occur twice"
   ]
  },
  {
   "cell_type": "code",
   "execution_count": 13,
   "id": "34cc252e",
   "metadata": {},
   "outputs": [
    {
     "name": "stdout",
     "output_type": "stream",
     "text": [
      "Mean: 14.133333333333333\n",
      "Median: 14\n",
      "Mode: 12\n"
     ]
    }
   ],
   "source": [
    "# new data \n",
    "data2 = [10, 8, 10, 12, 12, 12, 13, 14, 14, 15, 16, 18, 18, 20, 20] # sample data\n",
    "\n",
    "print(\"Mean:\", statistics.mean(data2))\n",
    "print(\"Median:\", statistics.median(data2))\n",
    "\n",
    "# to calculate mode\n",
    " \n",
    "print(\"Mode:\", statistics.mode(data2))\n",
    " "
   ]
  },
  {
   "cell_type": "markdown",
   "id": "f5acaf37",
   "metadata": {},
   "source": [
    "MEAN -Since the Mean take all vales into consideration, the mean will increase slightly\n",
    "MEDIAN - The median is not affected since it only looks at the middle values\n",
    "MODE - The is not affected since 12 occurs 3 times and the new data make 10 occur twice"
   ]
  },
  {
   "cell_type": "code",
   "execution_count": 14,
   "id": "fdc358e3",
   "metadata": {},
   "outputs": [
    {
     "name": "stdout",
     "output_type": "stream",
     "text": [
      "Mean: 42.22222222222222\n",
      "Median: 25\n",
      "Mode: 20\n"
     ]
    }
   ],
   "source": [
    "## Number 2 \n",
    "\n",
    "data3 = [15, 20, 20, 25, 25, 30, 60, 65, 120]\n",
    "# To calculate mean and median\n",
    "print(\"Mean:\", statistics.mean(data3))\n",
    "print(\"Median:\", statistics.median(data3))\n",
    "\n",
    "# to calculate mode\n",
    "print(\"Mode:\", statistics.mode(data3))\n",
    "\n"
   ]
  },
  {
   "cell_type": "markdown",
   "id": "b523280b",
   "metadata": {},
   "source": [
    "The Median best represents the “typical” time it takes students to get to school because the last value of 120 minutes is an outlier making the data skewed"
   ]
  },
  {
   "cell_type": "markdown",
   "id": "14aa5047",
   "metadata": {},
   "source": []
  },
  {
   "cell_type": "code",
   "execution_count": 16,
   "id": "3b15d046",
   "metadata": {},
   "outputs": [
    {
     "name": "stdout",
     "output_type": "stream",
     "text": [
      "Mode: 39\n",
      "Mean: 39.53333333333333\n"
     ]
    }
   ],
   "source": [
    "data4 =  [38, 39, 38, 40, 41, 42, 39, 39, 40, 38, 37, 39, 40, 41, 42]\n",
    "# to calculate mode\n",
    "print(\"Mode:\", statistics.mode(data4))\n",
    "\n",
    "# mean\n",
    "print(\"Mean:\", statistics.mean(data4))\n"
   ]
  },
  {
   "cell_type": "markdown",
   "id": "d26f113c",
   "metadata": {},
   "source": [
    "If a shoe company wants to donate free shoes, which size should they produce most of? Why?\n",
    "\n",
    "### size 39, because this is the mode \n",
    "\n",
    "\n",
    "What if they only want to produce one size that would fit the \"average\" student? Should they use mean, median, or mode? Defend your answer.\n",
    "\n",
    "### They should use the Mean. This is because there is no outlier in this data set"
   ]
  },
  {
   "cell_type": "code",
   "execution_count": null,
   "id": "1c64c2cf",
   "metadata": {},
   "outputs": [],
   "source": []
  }
 ],
 "metadata": {
  "kernelspec": {
   "display_name": "Python 3",
   "language": "python",
   "name": "python3"
  },
  "language_info": {
   "codemirror_mode": {
    "name": "ipython",
    "version": 3
   },
   "file_extension": ".py",
   "mimetype": "text/x-python",
   "name": "python",
   "nbconvert_exporter": "python",
   "pygments_lexer": "ipython3",
   "version": "3.13.5"
  }
 },
 "nbformat": 4,
 "nbformat_minor": 5
}
