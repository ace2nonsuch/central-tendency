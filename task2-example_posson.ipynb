{
 "cells": [
  {
   "cell_type": "code",
   "execution_count": 1,
   "id": "9f7adf26",
   "metadata": {
    "_cell_guid": "b1076dfc-b9ad-4769-8c92-a6c4dae69d19",
    "_uuid": "8f2839f25d086af736a60e9eeb907d3b93b6e0e5",
    "execution": {
     "iopub.execute_input": "2025-07-30T11:57:23.118306Z",
     "iopub.status.busy": "2025-07-30T11:57:23.117953Z",
     "iopub.status.idle": "2025-07-30T11:57:25.130089Z",
     "shell.execute_reply": "2025-07-30T11:57:25.128857Z"
    },
    "papermill": {
     "duration": 2.022916,
     "end_time": "2025-07-30T11:57:25.131799",
     "exception": false,
     "start_time": "2025-07-30T11:57:23.108883",
     "status": "completed"
    },
    "tags": []
   },
   "outputs": [
    {
     "name": "stdout",
     "output_type": "stream",
     "text": [
      "/kaggle/input/openintro-possum/possum.csv\n"
     ]
    }
   ],
   "source": [
    "# This Python 3 environment comes with many helpful analytics libraries installed\n",
    "# It is defined by the kaggle/python Docker image: https://github.com/kaggle/docker-python\n",
    "# For example, here's several helpful packages to load\n",
    "\n",
    "import numpy as np # linear algebra\n",
    "import pandas as pd # data processing, CSV file I/O (e.g. pd.read_csv)\n",
    "\n",
    "# Input data files are available in the read-only \"../input/\" directory\n",
    "# For example, running this (by clicking run or pressing Shift+Enter) will list all files under the input directory\n",
    "\n",
    "import os\n",
    "for dirname, _, filenames in os.walk('/kaggle/input'):\n",
    "    for filename in filenames:\n",
    "        print(os.path.join(dirname, filename))\n",
    "\n",
    "# You can write up to 20GB to the current directory (/kaggle/working/) that gets preserved as output when you create a version using \"Save & Run All\" \n",
    "# You can also write temporary files to /kaggle/temp/, but they won't be saved outside of the current session"
   ]
  },
  {
   "cell_type": "code",
   "execution_count": 2,
   "id": "b5a12c2a",
   "metadata": {
    "execution": {
     "iopub.execute_input": "2025-07-30T11:57:25.146907Z",
     "iopub.status.busy": "2025-07-30T11:57:25.146432Z",
     "iopub.status.idle": "2025-07-30T11:57:27.890501Z",
     "shell.execute_reply": "2025-07-30T11:57:27.889574Z"
    },
    "papermill": {
     "duration": 2.753384,
     "end_time": "2025-07-30T11:57:27.892287",
     "exception": false,
     "start_time": "2025-07-30T11:57:25.138903",
     "status": "completed"
    },
    "tags": []
   },
   "outputs": [],
   "source": [
    "import numpy as np\n",
    "import pandas as pd\n",
    "import matplotlib.pyplot as plt\n",
    "import seaborn as sns\n",
    "from sklearn.preprocessing import StandardScaler, LabelEncoder\n",
    "from sklearn.model_selection import train_test_split\n",
    "from sklearn.ensemble import ExtraTreesRegressor\n",
    "from sklearn.neighbors import RadiusNeighborsRegressor, KNeighborsRegressor, KNeighborsClassifier\n",
    "from sklearn.metrics import mean_squared_error, r2_score, accuracy_score, classification_report"
   ]
  },
  {
   "cell_type": "code",
   "execution_count": 3,
   "id": "32d1a2f8",
   "metadata": {
    "execution": {
     "iopub.execute_input": "2025-07-30T11:57:27.907574Z",
     "iopub.status.busy": "2025-07-30T11:57:27.906619Z",
     "iopub.status.idle": "2025-07-30T11:57:27.951986Z",
     "shell.execute_reply": "2025-07-30T11:57:27.951062Z"
    },
    "papermill": {
     "duration": 0.054121,
     "end_time": "2025-07-30T11:57:27.953421",
     "exception": false,
     "start_time": "2025-07-30T11:57:27.899300",
     "status": "completed"
    },
    "tags": []
   },
   "outputs": [
    {
     "data": {
      "text/html": [
       "<div>\n",
       "<style scoped>\n",
       "    .dataframe tbody tr th:only-of-type {\n",
       "        vertical-align: middle;\n",
       "    }\n",
       "\n",
       "    .dataframe tbody tr th {\n",
       "        vertical-align: top;\n",
       "    }\n",
       "\n",
       "    .dataframe thead th {\n",
       "        text-align: right;\n",
       "    }\n",
       "</style>\n",
       "<table border=\"1\" class=\"dataframe\">\n",
       "  <thead>\n",
       "    <tr style=\"text-align: right;\">\n",
       "      <th></th>\n",
       "      <th>case</th>\n",
       "      <th>site</th>\n",
       "      <th>Pop</th>\n",
       "      <th>sex</th>\n",
       "      <th>age</th>\n",
       "      <th>hdlngth</th>\n",
       "      <th>skullw</th>\n",
       "      <th>totlngth</th>\n",
       "      <th>taill</th>\n",
       "      <th>footlgth</th>\n",
       "      <th>earconch</th>\n",
       "      <th>eye</th>\n",
       "      <th>chest</th>\n",
       "      <th>belly</th>\n",
       "    </tr>\n",
       "  </thead>\n",
       "  <tbody>\n",
       "    <tr>\n",
       "      <th>0</th>\n",
       "      <td>1</td>\n",
       "      <td>1</td>\n",
       "      <td>Vic</td>\n",
       "      <td>m</td>\n",
       "      <td>8.0</td>\n",
       "      <td>94.1</td>\n",
       "      <td>60.4</td>\n",
       "      <td>89.0</td>\n",
       "      <td>36.0</td>\n",
       "      <td>74.5</td>\n",
       "      <td>54.5</td>\n",
       "      <td>15.2</td>\n",
       "      <td>28.0</td>\n",
       "      <td>36.0</td>\n",
       "    </tr>\n",
       "    <tr>\n",
       "      <th>1</th>\n",
       "      <td>2</td>\n",
       "      <td>1</td>\n",
       "      <td>Vic</td>\n",
       "      <td>f</td>\n",
       "      <td>6.0</td>\n",
       "      <td>92.5</td>\n",
       "      <td>57.6</td>\n",
       "      <td>91.5</td>\n",
       "      <td>36.5</td>\n",
       "      <td>72.5</td>\n",
       "      <td>51.2</td>\n",
       "      <td>16.0</td>\n",
       "      <td>28.5</td>\n",
       "      <td>33.0</td>\n",
       "    </tr>\n",
       "    <tr>\n",
       "      <th>2</th>\n",
       "      <td>3</td>\n",
       "      <td>1</td>\n",
       "      <td>Vic</td>\n",
       "      <td>f</td>\n",
       "      <td>6.0</td>\n",
       "      <td>94.0</td>\n",
       "      <td>60.0</td>\n",
       "      <td>95.5</td>\n",
       "      <td>39.0</td>\n",
       "      <td>75.4</td>\n",
       "      <td>51.9</td>\n",
       "      <td>15.5</td>\n",
       "      <td>30.0</td>\n",
       "      <td>34.0</td>\n",
       "    </tr>\n",
       "    <tr>\n",
       "      <th>3</th>\n",
       "      <td>4</td>\n",
       "      <td>1</td>\n",
       "      <td>Vic</td>\n",
       "      <td>f</td>\n",
       "      <td>6.0</td>\n",
       "      <td>93.2</td>\n",
       "      <td>57.1</td>\n",
       "      <td>92.0</td>\n",
       "      <td>38.0</td>\n",
       "      <td>76.1</td>\n",
       "      <td>52.2</td>\n",
       "      <td>15.2</td>\n",
       "      <td>28.0</td>\n",
       "      <td>34.0</td>\n",
       "    </tr>\n",
       "    <tr>\n",
       "      <th>4</th>\n",
       "      <td>5</td>\n",
       "      <td>1</td>\n",
       "      <td>Vic</td>\n",
       "      <td>f</td>\n",
       "      <td>2.0</td>\n",
       "      <td>91.5</td>\n",
       "      <td>56.3</td>\n",
       "      <td>85.5</td>\n",
       "      <td>36.0</td>\n",
       "      <td>71.0</td>\n",
       "      <td>53.2</td>\n",
       "      <td>15.1</td>\n",
       "      <td>28.5</td>\n",
       "      <td>33.0</td>\n",
       "    </tr>\n",
       "  </tbody>\n",
       "</table>\n",
       "</div>"
      ],
      "text/plain": [
       "   case  site  Pop sex  age  hdlngth  skullw  totlngth  taill  footlgth  \\\n",
       "0     1     1  Vic   m  8.0     94.1    60.4      89.0   36.0      74.5   \n",
       "1     2     1  Vic   f  6.0     92.5    57.6      91.5   36.5      72.5   \n",
       "2     3     1  Vic   f  6.0     94.0    60.0      95.5   39.0      75.4   \n",
       "3     4     1  Vic   f  6.0     93.2    57.1      92.0   38.0      76.1   \n",
       "4     5     1  Vic   f  2.0     91.5    56.3      85.5   36.0      71.0   \n",
       "\n",
       "   earconch   eye  chest  belly  \n",
       "0      54.5  15.2   28.0   36.0  \n",
       "1      51.2  16.0   28.5   33.0  \n",
       "2      51.9  15.5   30.0   34.0  \n",
       "3      52.2  15.2   28.0   34.0  \n",
       "4      53.2  15.1   28.5   33.0  "
      ]
     },
     "execution_count": 3,
     "metadata": {},
     "output_type": "execute_result"
    }
   ],
   "source": [
    "df = pd.read_csv('/kaggle/input/openintro-possum/possum.csv')\n",
    "df.head()\n"
   ]
  },
  {
   "cell_type": "code",
   "execution_count": 4,
   "id": "b1041d42",
   "metadata": {
    "execution": {
     "iopub.execute_input": "2025-07-30T11:57:27.968359Z",
     "iopub.status.busy": "2025-07-30T11:57:27.968013Z",
     "iopub.status.idle": "2025-07-30T11:57:27.990631Z",
     "shell.execute_reply": "2025-07-30T11:57:27.989321Z"
    },
    "papermill": {
     "duration": 0.031881,
     "end_time": "2025-07-30T11:57:27.992185",
     "exception": false,
     "start_time": "2025-07-30T11:57:27.960304",
     "status": "completed"
    },
    "tags": []
   },
   "outputs": [
    {
     "name": "stdout",
     "output_type": "stream",
     "text": [
      "<class 'pandas.core.frame.DataFrame'>\n",
      "RangeIndex: 104 entries, 0 to 103\n",
      "Data columns (total 14 columns):\n",
      " #   Column    Non-Null Count  Dtype  \n",
      "---  ------    --------------  -----  \n",
      " 0   case      104 non-null    int64  \n",
      " 1   site      104 non-null    int64  \n",
      " 2   Pop       104 non-null    object \n",
      " 3   sex       104 non-null    object \n",
      " 4   age       102 non-null    float64\n",
      " 5   hdlngth   104 non-null    float64\n",
      " 6   skullw    104 non-null    float64\n",
      " 7   totlngth  104 non-null    float64\n",
      " 8   taill     104 non-null    float64\n",
      " 9   footlgth  103 non-null    float64\n",
      " 10  earconch  104 non-null    float64\n",
      " 11  eye       104 non-null    float64\n",
      " 12  chest     104 non-null    float64\n",
      " 13  belly     104 non-null    float64\n",
      "dtypes: float64(10), int64(2), object(2)\n",
      "memory usage: 11.5+ KB\n"
     ]
    }
   ],
   "source": [
    "df.info()"
   ]
  },
  {
   "cell_type": "code",
   "execution_count": 5,
   "id": "5463f5d1",
   "metadata": {
    "execution": {
     "iopub.execute_input": "2025-07-30T11:57:28.007800Z",
     "iopub.status.busy": "2025-07-30T11:57:28.007487Z",
     "iopub.status.idle": "2025-07-30T11:57:28.053002Z",
     "shell.execute_reply": "2025-07-30T11:57:28.051833Z"
    },
    "papermill": {
     "duration": 0.055518,
     "end_time": "2025-07-30T11:57:28.054528",
     "exception": false,
     "start_time": "2025-07-30T11:57:27.999010",
     "status": "completed"
    },
    "tags": []
   },
   "outputs": [
    {
     "name": "stdout",
     "output_type": "stream",
     "text": [
      "<class 'pandas.core.frame.DataFrame'>\n",
      "RangeIndex: 104 entries, 0 to 103\n",
      "Data columns (total 14 columns):\n",
      " #   Column    Non-Null Count  Dtype  \n",
      "---  ------    --------------  -----  \n",
      " 0   case      104 non-null    int64  \n",
      " 1   site      104 non-null    int64  \n",
      " 2   Pop       104 non-null    object \n",
      " 3   sex       104 non-null    object \n",
      " 4   age       102 non-null    float64\n",
      " 5   hdlngth   104 non-null    float64\n",
      " 6   skullw    104 non-null    float64\n",
      " 7   totlngth  104 non-null    float64\n",
      " 8   taill     104 non-null    float64\n",
      " 9   footlgth  103 non-null    float64\n",
      " 10  earconch  104 non-null    float64\n",
      " 11  eye       104 non-null    float64\n",
      " 12  chest     104 non-null    float64\n",
      " 13  belly     104 non-null    float64\n",
      "dtypes: float64(10), int64(2), object(2)\n",
      "memory usage: 11.5+ KB\n"
     ]
    },
    {
     "data": {
      "text/html": [
       "<div>\n",
       "<style scoped>\n",
       "    .dataframe tbody tr th:only-of-type {\n",
       "        vertical-align: middle;\n",
       "    }\n",
       "\n",
       "    .dataframe tbody tr th {\n",
       "        vertical-align: top;\n",
       "    }\n",
       "\n",
       "    .dataframe thead th {\n",
       "        text-align: right;\n",
       "    }\n",
       "</style>\n",
       "<table border=\"1\" class=\"dataframe\">\n",
       "  <thead>\n",
       "    <tr style=\"text-align: right;\">\n",
       "      <th></th>\n",
       "      <th>case</th>\n",
       "      <th>site</th>\n",
       "      <th>age</th>\n",
       "      <th>hdlngth</th>\n",
       "      <th>skullw</th>\n",
       "      <th>totlngth</th>\n",
       "      <th>taill</th>\n",
       "      <th>footlgth</th>\n",
       "      <th>earconch</th>\n",
       "      <th>eye</th>\n",
       "      <th>chest</th>\n",
       "      <th>belly</th>\n",
       "    </tr>\n",
       "  </thead>\n",
       "  <tbody>\n",
       "    <tr>\n",
       "      <th>count</th>\n",
       "      <td>104.000000</td>\n",
       "      <td>104.000000</td>\n",
       "      <td>102.000000</td>\n",
       "      <td>104.000000</td>\n",
       "      <td>104.000000</td>\n",
       "      <td>104.000000</td>\n",
       "      <td>104.000000</td>\n",
       "      <td>103.000000</td>\n",
       "      <td>104.000000</td>\n",
       "      <td>104.000000</td>\n",
       "      <td>104.000000</td>\n",
       "      <td>104.000000</td>\n",
       "    </tr>\n",
       "    <tr>\n",
       "      <th>mean</th>\n",
       "      <td>52.500000</td>\n",
       "      <td>3.625000</td>\n",
       "      <td>3.833333</td>\n",
       "      <td>92.602885</td>\n",
       "      <td>56.883654</td>\n",
       "      <td>87.088462</td>\n",
       "      <td>37.009615</td>\n",
       "      <td>68.459223</td>\n",
       "      <td>48.130769</td>\n",
       "      <td>15.046154</td>\n",
       "      <td>27.000000</td>\n",
       "      <td>32.586538</td>\n",
       "    </tr>\n",
       "    <tr>\n",
       "      <th>std</th>\n",
       "      <td>30.166206</td>\n",
       "      <td>2.349086</td>\n",
       "      <td>1.909244</td>\n",
       "      <td>3.573349</td>\n",
       "      <td>3.113426</td>\n",
       "      <td>4.310549</td>\n",
       "      <td>1.959518</td>\n",
       "      <td>4.395306</td>\n",
       "      <td>4.109380</td>\n",
       "      <td>1.050374</td>\n",
       "      <td>2.045597</td>\n",
       "      <td>2.761949</td>\n",
       "    </tr>\n",
       "    <tr>\n",
       "      <th>min</th>\n",
       "      <td>1.000000</td>\n",
       "      <td>1.000000</td>\n",
       "      <td>1.000000</td>\n",
       "      <td>82.500000</td>\n",
       "      <td>50.000000</td>\n",
       "      <td>75.000000</td>\n",
       "      <td>32.000000</td>\n",
       "      <td>60.300000</td>\n",
       "      <td>40.300000</td>\n",
       "      <td>12.800000</td>\n",
       "      <td>22.000000</td>\n",
       "      <td>25.000000</td>\n",
       "    </tr>\n",
       "    <tr>\n",
       "      <th>25%</th>\n",
       "      <td>26.750000</td>\n",
       "      <td>1.000000</td>\n",
       "      <td>2.250000</td>\n",
       "      <td>90.675000</td>\n",
       "      <td>54.975000</td>\n",
       "      <td>84.000000</td>\n",
       "      <td>35.875000</td>\n",
       "      <td>64.600000</td>\n",
       "      <td>44.800000</td>\n",
       "      <td>14.400000</td>\n",
       "      <td>25.500000</td>\n",
       "      <td>31.000000</td>\n",
       "    </tr>\n",
       "    <tr>\n",
       "      <th>50%</th>\n",
       "      <td>52.500000</td>\n",
       "      <td>3.000000</td>\n",
       "      <td>3.000000</td>\n",
       "      <td>92.800000</td>\n",
       "      <td>56.350000</td>\n",
       "      <td>88.000000</td>\n",
       "      <td>37.000000</td>\n",
       "      <td>68.000000</td>\n",
       "      <td>46.800000</td>\n",
       "      <td>14.900000</td>\n",
       "      <td>27.000000</td>\n",
       "      <td>32.500000</td>\n",
       "    </tr>\n",
       "    <tr>\n",
       "      <th>75%</th>\n",
       "      <td>78.250000</td>\n",
       "      <td>6.000000</td>\n",
       "      <td>5.000000</td>\n",
       "      <td>94.725000</td>\n",
       "      <td>58.100000</td>\n",
       "      <td>90.000000</td>\n",
       "      <td>38.000000</td>\n",
       "      <td>72.500000</td>\n",
       "      <td>52.000000</td>\n",
       "      <td>15.725000</td>\n",
       "      <td>28.000000</td>\n",
       "      <td>34.125000</td>\n",
       "    </tr>\n",
       "    <tr>\n",
       "      <th>max</th>\n",
       "      <td>104.000000</td>\n",
       "      <td>7.000000</td>\n",
       "      <td>9.000000</td>\n",
       "      <td>103.100000</td>\n",
       "      <td>68.600000</td>\n",
       "      <td>96.500000</td>\n",
       "      <td>43.000000</td>\n",
       "      <td>77.900000</td>\n",
       "      <td>56.200000</td>\n",
       "      <td>17.800000</td>\n",
       "      <td>32.000000</td>\n",
       "      <td>40.000000</td>\n",
       "    </tr>\n",
       "  </tbody>\n",
       "</table>\n",
       "</div>"
      ],
      "text/plain": [
       "             case        site         age     hdlngth      skullw    totlngth  \\\n",
       "count  104.000000  104.000000  102.000000  104.000000  104.000000  104.000000   \n",
       "mean    52.500000    3.625000    3.833333   92.602885   56.883654   87.088462   \n",
       "std     30.166206    2.349086    1.909244    3.573349    3.113426    4.310549   \n",
       "min      1.000000    1.000000    1.000000   82.500000   50.000000   75.000000   \n",
       "25%     26.750000    1.000000    2.250000   90.675000   54.975000   84.000000   \n",
       "50%     52.500000    3.000000    3.000000   92.800000   56.350000   88.000000   \n",
       "75%     78.250000    6.000000    5.000000   94.725000   58.100000   90.000000   \n",
       "max    104.000000    7.000000    9.000000  103.100000   68.600000   96.500000   \n",
       "\n",
       "            taill    footlgth    earconch         eye       chest       belly  \n",
       "count  104.000000  103.000000  104.000000  104.000000  104.000000  104.000000  \n",
       "mean    37.009615   68.459223   48.130769   15.046154   27.000000   32.586538  \n",
       "std      1.959518    4.395306    4.109380    1.050374    2.045597    2.761949  \n",
       "min     32.000000   60.300000   40.300000   12.800000   22.000000   25.000000  \n",
       "25%     35.875000   64.600000   44.800000   14.400000   25.500000   31.000000  \n",
       "50%     37.000000   68.000000   46.800000   14.900000   27.000000   32.500000  \n",
       "75%     38.000000   72.500000   52.000000   15.725000   28.000000   34.125000  \n",
       "max     43.000000   77.900000   56.200000   17.800000   32.000000   40.000000  "
      ]
     },
     "execution_count": 5,
     "metadata": {},
     "output_type": "execute_result"
    }
   ],
   "source": [
    "df.info()\n",
    "df.describe()\n"
   ]
  },
  {
   "cell_type": "code",
   "execution_count": 6,
   "id": "2cafaeed",
   "metadata": {
    "execution": {
     "iopub.execute_input": "2025-07-30T11:57:28.070677Z",
     "iopub.status.busy": "2025-07-30T11:57:28.070387Z",
     "iopub.status.idle": "2025-07-30T11:57:28.079112Z",
     "shell.execute_reply": "2025-07-30T11:57:28.078317Z"
    },
    "papermill": {
     "duration": 0.01862,
     "end_time": "2025-07-30T11:57:28.080618",
     "exception": false,
     "start_time": "2025-07-30T11:57:28.061998",
     "status": "completed"
    },
    "tags": []
   },
   "outputs": [],
   "source": [
    "df = df.dropna()\n"
   ]
  },
  {
   "cell_type": "code",
   "execution_count": 7,
   "id": "de8faf42",
   "metadata": {
    "execution": {
     "iopub.execute_input": "2025-07-30T11:57:28.097342Z",
     "iopub.status.busy": "2025-07-30T11:57:28.097021Z",
     "iopub.status.idle": "2025-07-30T11:57:28.104566Z",
     "shell.execute_reply": "2025-07-30T11:57:28.103343Z"
    },
    "papermill": {
     "duration": 0.017858,
     "end_time": "2025-07-30T11:57:28.106049",
     "exception": false,
     "start_time": "2025-07-30T11:57:28.088191",
     "status": "completed"
    },
    "tags": []
   },
   "outputs": [
    {
     "name": "stdout",
     "output_type": "stream",
     "text": [
      "case        0\n",
      "site        0\n",
      "Pop         0\n",
      "sex         0\n",
      "age         0\n",
      "hdlngth     0\n",
      "skullw      0\n",
      "totlngth    0\n",
      "taill       0\n",
      "footlgth    0\n",
      "earconch    0\n",
      "eye         0\n",
      "chest       0\n",
      "belly       0\n",
      "dtype: int64\n"
     ]
    }
   ],
   "source": [
    "df[df.isna().any(axis=1)]\n",
    "print(df.isna().sum())  \n"
   ]
  },
  {
   "cell_type": "code",
   "execution_count": 8,
   "id": "7840c297",
   "metadata": {
    "execution": {
     "iopub.execute_input": "2025-07-30T11:57:28.122919Z",
     "iopub.status.busy": "2025-07-30T11:57:28.122136Z",
     "iopub.status.idle": "2025-07-30T11:57:28.128546Z",
     "shell.execute_reply": "2025-07-30T11:57:28.127499Z"
    },
    "papermill": {
     "duration": 0.016948,
     "end_time": "2025-07-30T11:57:28.130427",
     "exception": false,
     "start_time": "2025-07-30T11:57:28.113479",
     "status": "completed"
    },
    "tags": []
   },
   "outputs": [],
   "source": [
    "df['age']=df['age'].fillna(df['age'].mean())\n",
    "df['footlgth']=df['footlgth'].fillna(df['footlgth'].mean())"
   ]
  },
  {
   "cell_type": "code",
   "execution_count": 9,
   "id": "53b18faa",
   "metadata": {
    "execution": {
     "iopub.execute_input": "2025-07-30T11:57:28.146181Z",
     "iopub.status.busy": "2025-07-30T11:57:28.145829Z",
     "iopub.status.idle": "2025-07-30T11:57:28.152961Z",
     "shell.execute_reply": "2025-07-30T11:57:28.151685Z"
    },
    "papermill": {
     "duration": 0.016746,
     "end_time": "2025-07-30T11:57:28.154396",
     "exception": false,
     "start_time": "2025-07-30T11:57:28.137650",
     "status": "completed"
    },
    "tags": []
   },
   "outputs": [
    {
     "name": "stdout",
     "output_type": "stream",
     "text": [
      "case        0\n",
      "site        0\n",
      "Pop         0\n",
      "sex         0\n",
      "age         0\n",
      "hdlngth     0\n",
      "skullw      0\n",
      "totlngth    0\n",
      "taill       0\n",
      "footlgth    0\n",
      "earconch    0\n",
      "eye         0\n",
      "chest       0\n",
      "belly       0\n",
      "dtype: int64\n"
     ]
    }
   ],
   "source": [
    "print(df.isna().sum()) "
   ]
  },
  {
   "cell_type": "code",
   "execution_count": 10,
   "id": "a3bf1364",
   "metadata": {
    "execution": {
     "iopub.execute_input": "2025-07-30T11:57:28.170855Z",
     "iopub.status.busy": "2025-07-30T11:57:28.170539Z",
     "iopub.status.idle": "2025-07-30T11:57:28.179277Z",
     "shell.execute_reply": "2025-07-30T11:57:28.178142Z"
    },
    "papermill": {
     "duration": 0.018557,
     "end_time": "2025-07-30T11:57:28.180751",
     "exception": false,
     "start_time": "2025-07-30T11:57:28.162194",
     "status": "completed"
    },
    "tags": []
   },
   "outputs": [
    {
     "name": "stdout",
     "output_type": "stream",
     "text": [
      "Empty DataFrame\n",
      "Columns: [case, site, Pop, sex, age, hdlngth, skullw, totlngth, taill, footlgth, earconch, eye, chest, belly]\n",
      "Index: []\n"
     ]
    }
   ],
   "source": [
    "duplicates = df[df.duplicated()]\n",
    "print(duplicates)"
   ]
  },
  {
   "cell_type": "code",
   "execution_count": 11,
   "id": "b00a1cbe",
   "metadata": {
    "execution": {
     "iopub.execute_input": "2025-07-30T11:57:28.197355Z",
     "iopub.status.busy": "2025-07-30T11:57:28.196960Z",
     "iopub.status.idle": "2025-07-30T11:57:28.209173Z",
     "shell.execute_reply": "2025-07-30T11:57:28.208235Z"
    },
    "papermill": {
     "duration": 0.022528,
     "end_time": "2025-07-30T11:57:28.210660",
     "exception": false,
     "start_time": "2025-07-30T11:57:28.188132",
     "status": "completed"
    },
    "tags": []
   },
   "outputs": [
    {
     "data": {
      "text/html": [
       "<div>\n",
       "<style scoped>\n",
       "    .dataframe tbody tr th:only-of-type {\n",
       "        vertical-align: middle;\n",
       "    }\n",
       "\n",
       "    .dataframe tbody tr th {\n",
       "        vertical-align: top;\n",
       "    }\n",
       "\n",
       "    .dataframe thead th {\n",
       "        text-align: right;\n",
       "    }\n",
       "</style>\n",
       "<table border=\"1\" class=\"dataframe\">\n",
       "  <thead>\n",
       "    <tr style=\"text-align: right;\">\n",
       "      <th></th>\n",
       "      <th>case</th>\n",
       "      <th>site</th>\n",
       "      <th>Pop</th>\n",
       "      <th>sex</th>\n",
       "      <th>age</th>\n",
       "      <th>hdlngth</th>\n",
       "      <th>skullw</th>\n",
       "      <th>totlngth</th>\n",
       "      <th>taill</th>\n",
       "      <th>footlgth</th>\n",
       "      <th>earconch</th>\n",
       "      <th>eye</th>\n",
       "      <th>chest</th>\n",
       "      <th>belly</th>\n",
       "    </tr>\n",
       "  </thead>\n",
       "  <tbody>\n",
       "  </tbody>\n",
       "</table>\n",
       "</div>"
      ],
      "text/plain": [
       "Empty DataFrame\n",
       "Columns: [case, site, Pop, sex, age, hdlngth, skullw, totlngth, taill, footlgth, earconch, eye, chest, belly]\n",
       "Index: []"
      ]
     },
     "execution_count": 11,
     "metadata": {},
     "output_type": "execute_result"
    }
   ],
   "source": [
    "df[df.duplicated()]"
   ]
  },
  {
   "cell_type": "code",
   "execution_count": 12,
   "id": "58674912",
   "metadata": {
    "execution": {
     "iopub.execute_input": "2025-07-30T11:57:28.227214Z",
     "iopub.status.busy": "2025-07-30T11:57:28.226888Z",
     "iopub.status.idle": "2025-07-30T11:57:28.245333Z",
     "shell.execute_reply": "2025-07-30T11:57:28.244308Z"
    },
    "papermill": {
     "duration": 0.029108,
     "end_time": "2025-07-30T11:57:28.247237",
     "exception": false,
     "start_time": "2025-07-30T11:57:28.218129",
     "status": "completed"
    },
    "tags": []
   },
   "outputs": [
    {
     "name": "stdout",
     "output_type": "stream",
     "text": [
      "without outliers in 'hdlngth' : \n",
      "     case  site    Pop sex  age  hdlngth  skullw  totlngth  taill  footlgth  \\\n",
      "0       1     1    Vic   m  8.0     94.1    60.4      89.0   36.0      74.5   \n",
      "1       2     1    Vic   f  6.0     92.5    57.6      91.5   36.5      72.5   \n",
      "2       3     1    Vic   f  6.0     94.0    60.0      95.5   39.0      75.4   \n",
      "3       4     1    Vic   f  6.0     93.2    57.1      92.0   38.0      76.1   \n",
      "4       5     1    Vic   f  2.0     91.5    56.3      85.5   36.0      71.0   \n",
      "..    ...   ...    ...  ..  ...      ...     ...       ...    ...       ...   \n",
      "99    100     7  other   m  1.0     89.5    56.0      81.5   36.5      66.0   \n",
      "100   101     7  other   m  1.0     88.6    54.7      82.5   39.0      64.4   \n",
      "101   102     7  other   f  6.0     92.4    55.0      89.0   38.0      63.5   \n",
      "102   103     7  other   m  4.0     91.5    55.2      82.5   36.5      62.9   \n",
      "103   104     7  other   f  3.0     93.6    59.9      89.0   40.0      67.6   \n",
      "\n",
      "     earconch   eye  chest  belly  \n",
      "0        54.5  15.2   28.0   36.0  \n",
      "1        51.2  16.0   28.5   33.0  \n",
      "2        51.9  15.5   30.0   34.0  \n",
      "3        52.2  15.2   28.0   34.0  \n",
      "4        53.2  15.1   28.5   33.0  \n",
      "..        ...   ...    ...    ...  \n",
      "99       46.8  14.8   23.0   27.0  \n",
      "100      48.0  14.0   25.0   33.0  \n",
      "101      45.4  13.0   25.0   30.0  \n",
      "102      45.9  15.4   25.0   29.0  \n",
      "103      46.0  14.8   28.5   33.5  \n",
      "\n",
      "[98 rows x 14 columns]\n"
     ]
    }
   ],
   "source": [
    "Q1=df['hdlngth'].quantile(0.25)\n",
    "Q3=df['hdlngth'].quantile(0.75)\n",
    "IQR=Q3 -Q1\n",
    "\n",
    "lower_bound=Q1 - 1.5 *IQR\n",
    "upper_bound=Q3 + 1.5 *IQR\n",
    "\n",
    "df_no_outliers=df[(df['hdlngth'] >= lower_bound) & (df['hdlngth'] <= upper_bound)]\n",
    "print(\"without outliers in 'hdlngth' : \")\n",
    "print(df_no_outliers)"
   ]
  },
  {
   "cell_type": "code",
   "execution_count": 13,
   "id": "4e6f13c2",
   "metadata": {
    "execution": {
     "iopub.execute_input": "2025-07-30T11:57:28.263771Z",
     "iopub.status.busy": "2025-07-30T11:57:28.263425Z",
     "iopub.status.idle": "2025-07-30T11:57:28.279893Z",
     "shell.execute_reply": "2025-07-30T11:57:28.278857Z"
    },
    "papermill": {
     "duration": 0.026536,
     "end_time": "2025-07-30T11:57:28.281443",
     "exception": false,
     "start_time": "2025-07-30T11:57:28.254907",
     "status": "completed"
    },
    "tags": []
   },
   "outputs": [
    {
     "name": "stdout",
     "output_type": "stream",
     "text": [
      "without outliers in 'taill' : \n",
      "     case  site    Pop sex  age  hdlngth  skullw  totlngth  taill  footlgth  \\\n",
      "0       1     1    Vic   m  8.0     94.1    60.4      89.0   36.0      74.5   \n",
      "1       2     1    Vic   f  6.0     92.5    57.6      91.5   36.5      72.5   \n",
      "2       3     1    Vic   f  6.0     94.0    60.0      95.5   39.0      75.4   \n",
      "3       4     1    Vic   f  6.0     93.2    57.1      92.0   38.0      76.1   \n",
      "4       5     1    Vic   f  2.0     91.5    56.3      85.5   36.0      71.0   \n",
      "..    ...   ...    ...  ..  ...      ...     ...       ...    ...       ...   \n",
      "99    100     7  other   m  1.0     89.5    56.0      81.5   36.5      66.0   \n",
      "100   101     7  other   m  1.0     88.6    54.7      82.5   39.0      64.4   \n",
      "101   102     7  other   f  6.0     92.4    55.0      89.0   38.0      63.5   \n",
      "102   103     7  other   m  4.0     91.5    55.2      82.5   36.5      62.9   \n",
      "103   104     7  other   f  3.0     93.6    59.9      89.0   40.0      67.6   \n",
      "\n",
      "     earconch   eye  chest  belly  \n",
      "0        54.5  15.2   28.0   36.0  \n",
      "1        51.2  16.0   28.5   33.0  \n",
      "2        51.9  15.5   30.0   34.0  \n",
      "3        52.2  15.2   28.0   34.0  \n",
      "4        53.2  15.1   28.5   33.0  \n",
      "..        ...   ...    ...    ...  \n",
      "99       46.8  14.8   23.0   27.0  \n",
      "100      48.0  14.0   25.0   33.0  \n",
      "101      45.4  13.0   25.0   30.0  \n",
      "102      45.9  15.4   25.0   29.0  \n",
      "103      46.0  14.8   28.5   33.5  \n",
      "\n",
      "[94 rows x 14 columns]\n"
     ]
    }
   ],
   "source": [
    "Q1=df_no_outliers['taill'].quantile(0.25)\n",
    "Q3=df_no_outliers['taill'].quantile(0.75)\n",
    "IQR=Q3 -Q1\n",
    "\n",
    "lower_bound=Q1 - 1.5 *IQR\n",
    "upper_bound=Q3 + 1.5 *IQR\n",
    "\n",
    "df_no_outliers=df_no_outliers[(df_no_outliers['taill'] >= lower_bound) & (df_no_outliers['taill'] <= upper_bound)]\n",
    "print(\"without outliers in 'taill' : \")\n",
    "print(df_no_outliers)"
   ]
  },
  {
   "cell_type": "code",
   "execution_count": 14,
   "id": "0238716a",
   "metadata": {
    "execution": {
     "iopub.execute_input": "2025-07-30T11:57:28.298883Z",
     "iopub.status.busy": "2025-07-30T11:57:28.298505Z",
     "iopub.status.idle": "2025-07-30T11:57:28.316149Z",
     "shell.execute_reply": "2025-07-30T11:57:28.314975Z"
    },
    "papermill": {
     "duration": 0.0288,
     "end_time": "2025-07-30T11:57:28.318218",
     "exception": false,
     "start_time": "2025-07-30T11:57:28.289418",
     "status": "completed"
    },
    "tags": []
   },
   "outputs": [
    {
     "name": "stdout",
     "output_type": "stream",
     "text": [
      "without outliers in 'skullw' : \n",
      "     case  site    Pop sex  age  hdlngth  skullw  totlngth  taill  footlgth  \\\n",
      "0       1     1    Vic   m  8.0     94.1    60.4      89.0   36.0      74.5   \n",
      "1       2     1    Vic   f  6.0     92.5    57.6      91.5   36.5      72.5   \n",
      "2       3     1    Vic   f  6.0     94.0    60.0      95.5   39.0      75.4   \n",
      "3       4     1    Vic   f  6.0     93.2    57.1      92.0   38.0      76.1   \n",
      "4       5     1    Vic   f  2.0     91.5    56.3      85.5   36.0      71.0   \n",
      "..    ...   ...    ...  ..  ...      ...     ...       ...    ...       ...   \n",
      "99    100     7  other   m  1.0     89.5    56.0      81.5   36.5      66.0   \n",
      "100   101     7  other   m  1.0     88.6    54.7      82.5   39.0      64.4   \n",
      "101   102     7  other   f  6.0     92.4    55.0      89.0   38.0      63.5   \n",
      "102   103     7  other   m  4.0     91.5    55.2      82.5   36.5      62.9   \n",
      "103   104     7  other   f  3.0     93.6    59.9      89.0   40.0      67.6   \n",
      "\n",
      "     earconch   eye  chest  belly  \n",
      "0        54.5  15.2   28.0   36.0  \n",
      "1        51.2  16.0   28.5   33.0  \n",
      "2        51.9  15.5   30.0   34.0  \n",
      "3        52.2  15.2   28.0   34.0  \n",
      "4        53.2  15.1   28.5   33.0  \n",
      "..        ...   ...    ...    ...  \n",
      "99       46.8  14.8   23.0   27.0  \n",
      "100      48.0  14.0   25.0   33.0  \n",
      "101      45.4  13.0   25.0   30.0  \n",
      "102      45.9  15.4   25.0   29.0  \n",
      "103      46.0  14.8   28.5   33.5  \n",
      "\n",
      "[89 rows x 14 columns]\n"
     ]
    }
   ],
   "source": [
    "Q1=df_no_outliers['skullw'].quantile(0.25)\n",
    "Q3=df_no_outliers['skullw'].quantile(0.75)\n",
    "IQR=Q3 -Q1\n",
    "\n",
    "lower_bound=Q1 - 1.5 *IQR\n",
    "upper_bound=Q3 + 1.5 *IQR\n",
    "\n",
    "df_no_outliers=df_no_outliers[(df_no_outliers['skullw'] >= lower_bound) & (df_no_outliers['skullw'] <= upper_bound)]\n",
    "print(\"without outliers in 'skullw' : \")\n",
    "print(df_no_outliers)"
   ]
  },
  {
   "cell_type": "code",
   "execution_count": 15,
   "id": "1ff3999c",
   "metadata": {
    "execution": {
     "iopub.execute_input": "2025-07-30T11:57:28.337327Z",
     "iopub.status.busy": "2025-07-30T11:57:28.336801Z",
     "iopub.status.idle": "2025-07-30T11:57:28.356318Z",
     "shell.execute_reply": "2025-07-30T11:57:28.354927Z"
    },
    "papermill": {
     "duration": 0.031156,
     "end_time": "2025-07-30T11:57:28.358684",
     "exception": false,
     "start_time": "2025-07-30T11:57:28.327528",
     "status": "completed"
    },
    "tags": []
   },
   "outputs": [
    {
     "name": "stdout",
     "output_type": "stream",
     "text": [
      "without outliers in 'totlngth' : \n",
      "     case  site    Pop sex  age  hdlngth  skullw  totlngth  taill  footlgth  \\\n",
      "0       1     1    Vic   m  8.0     94.1    60.4      89.0   36.0      74.5   \n",
      "1       2     1    Vic   f  6.0     92.5    57.6      91.5   36.5      72.5   \n",
      "2       3     1    Vic   f  6.0     94.0    60.0      95.5   39.0      75.4   \n",
      "3       4     1    Vic   f  6.0     93.2    57.1      92.0   38.0      76.1   \n",
      "4       5     1    Vic   f  2.0     91.5    56.3      85.5   36.0      71.0   \n",
      "..    ...   ...    ...  ..  ...      ...     ...       ...    ...       ...   \n",
      "99    100     7  other   m  1.0     89.5    56.0      81.5   36.5      66.0   \n",
      "100   101     7  other   m  1.0     88.6    54.7      82.5   39.0      64.4   \n",
      "101   102     7  other   f  6.0     92.4    55.0      89.0   38.0      63.5   \n",
      "102   103     7  other   m  4.0     91.5    55.2      82.5   36.5      62.9   \n",
      "103   104     7  other   f  3.0     93.6    59.9      89.0   40.0      67.6   \n",
      "\n",
      "     earconch   eye  chest  belly  \n",
      "0        54.5  15.2   28.0   36.0  \n",
      "1        51.2  16.0   28.5   33.0  \n",
      "2        51.9  15.5   30.0   34.0  \n",
      "3        52.2  15.2   28.0   34.0  \n",
      "4        53.2  15.1   28.5   33.0  \n",
      "..        ...   ...    ...    ...  \n",
      "99       46.8  14.8   23.0   27.0  \n",
      "100      48.0  14.0   25.0   33.0  \n",
      "101      45.4  13.0   25.0   30.0  \n",
      "102      45.9  15.4   25.0   29.0  \n",
      "103      46.0  14.8   28.5   33.5  \n",
      "\n",
      "[88 rows x 14 columns]\n"
     ]
    }
   ],
   "source": [
    "Q1=df_no_outliers['totlngth'].quantile(0.25)\n",
    "Q3=df_no_outliers['totlngth'].quantile(0.75)\n",
    "IQR=Q3 -Q1\n",
    "\n",
    "lower_bound=Q1 - 1.5 *IQR\n",
    "upper_bound=Q3 + 1.5 *IQR\n",
    "\n",
    "df_no_outliers=df_no_outliers[(df_no_outliers['totlngth'] >= lower_bound) & (df_no_outliers['totlngth'] <= upper_bound)]\n",
    "print(\"without outliers in 'totlngth' : \")\n",
    "print(df_no_outliers)"
   ]
  },
  {
   "cell_type": "code",
   "execution_count": 16,
   "id": "e48be0e6",
   "metadata": {
    "execution": {
     "iopub.execute_input": "2025-07-30T11:57:28.376127Z",
     "iopub.status.busy": "2025-07-30T11:57:28.375789Z",
     "iopub.status.idle": "2025-07-30T11:57:28.394551Z",
     "shell.execute_reply": "2025-07-30T11:57:28.393253Z"
    },
    "papermill": {
     "duration": 0.029484,
     "end_time": "2025-07-30T11:57:28.396161",
     "exception": false,
     "start_time": "2025-07-30T11:57:28.366677",
     "status": "completed"
    },
    "tags": []
   },
   "outputs": [
    {
     "name": "stdout",
     "output_type": "stream",
     "text": [
      "without outliers in 'footlgth' : \n",
      "     case  site    Pop sex  age  hdlngth  skullw  totlngth  taill  footlgth  \\\n",
      "0       1     1    Vic   m  8.0     94.1    60.4      89.0   36.0      74.5   \n",
      "1       2     1    Vic   f  6.0     92.5    57.6      91.5   36.5      72.5   \n",
      "2       3     1    Vic   f  6.0     94.0    60.0      95.5   39.0      75.4   \n",
      "3       4     1    Vic   f  6.0     93.2    57.1      92.0   38.0      76.1   \n",
      "4       5     1    Vic   f  2.0     91.5    56.3      85.5   36.0      71.0   \n",
      "..    ...   ...    ...  ..  ...      ...     ...       ...    ...       ...   \n",
      "99    100     7  other   m  1.0     89.5    56.0      81.5   36.5      66.0   \n",
      "100   101     7  other   m  1.0     88.6    54.7      82.5   39.0      64.4   \n",
      "101   102     7  other   f  6.0     92.4    55.0      89.0   38.0      63.5   \n",
      "102   103     7  other   m  4.0     91.5    55.2      82.5   36.5      62.9   \n",
      "103   104     7  other   f  3.0     93.6    59.9      89.0   40.0      67.6   \n",
      "\n",
      "     earconch   eye  chest  belly  \n",
      "0        54.5  15.2   28.0   36.0  \n",
      "1        51.2  16.0   28.5   33.0  \n",
      "2        51.9  15.5   30.0   34.0  \n",
      "3        52.2  15.2   28.0   34.0  \n",
      "4        53.2  15.1   28.5   33.0  \n",
      "..        ...   ...    ...    ...  \n",
      "99       46.8  14.8   23.0   27.0  \n",
      "100      48.0  14.0   25.0   33.0  \n",
      "101      45.4  13.0   25.0   30.0  \n",
      "102      45.9  15.4   25.0   29.0  \n",
      "103      46.0  14.8   28.5   33.5  \n",
      "\n",
      "[88 rows x 14 columns]\n"
     ]
    }
   ],
   "source": [
    "Q1=df_no_outliers['footlgth'].quantile(0.25)\n",
    "Q3=df_no_outliers['footlgth'].quantile(0.75)\n",
    "IQR=Q3 -Q1\n",
    "\t\t\t\t\t\t\n",
    "lower_bound=Q1 - 1.5 *IQR\n",
    "upper_bound=Q3 + 1.5 *IQR\n",
    "\n",
    "df_no_outliers=df_no_outliers[(df_no_outliers['footlgth'] >= lower_bound) & (df_no_outliers['footlgth'] <= upper_bound)]\n",
    "print(\"without outliers in 'footlgth' : \")\n",
    "print(df_no_outliers)"
   ]
  },
  {
   "cell_type": "code",
   "execution_count": 17,
   "id": "3b1d75fc",
   "metadata": {
    "execution": {
     "iopub.execute_input": "2025-07-30T11:57:28.413244Z",
     "iopub.status.busy": "2025-07-30T11:57:28.412955Z",
     "iopub.status.idle": "2025-07-30T11:57:28.713631Z",
     "shell.execute_reply": "2025-07-30T11:57:28.712592Z"
    },
    "papermill": {
     "duration": 0.311567,
     "end_time": "2025-07-30T11:57:28.715710",
     "exception": false,
     "start_time": "2025-07-30T11:57:28.404143",
     "status": "completed"
    },
    "tags": []
   },
   "outputs": [
    {
     "data": {
      "image/png": "[encoded data removed]",
      "text/plain": [
       "<Figure size 640x480 with 1 Axes>"
      ]
     },
     "metadata": {},
     "output_type": "display_data"
    }
   ],
   "source": [
    "sns.boxplot(data=df[['hdlngth'\t,'skullw',\t'totlngth' ,\t'taill'\t,'footlgth']])\n",
    "plt.title(\"boxplot to detect outliers\")\n",
    "plt.show()"
   ]
  },
  {
   "cell_type": "code",
   "execution_count": 18,
   "id": "4cd62999",
   "metadata": {
    "execution": {
     "iopub.execute_input": "2025-07-30T11:57:28.734593Z",
     "iopub.status.busy": "2025-07-30T11:57:28.734296Z",
     "iopub.status.idle": "2025-07-30T11:57:28.915768Z",
     "shell.execute_reply": "2025-07-30T11:57:28.914964Z"
    },
    "papermill": {
     "duration": 0.192567,
     "end_time": "2025-07-30T11:57:28.917341",
     "exception": false,
     "start_time": "2025-07-30T11:57:28.724774",
     "status": "completed"
    },
    "tags": []
   },
   "outputs": [
    {
     "data": {
      "image/png": "[encoded data removed]",
      "text/plain": [
       "<Figure size 640x480 with 1 Axes>"
      ]
     },
     "metadata": {},
     "output_type": "display_data"
    }
   ],
   "source": [
    "sns.boxplot(data=df_no_outliers[['hdlngth'\t,'skullw',\t'totlngth' ,\t'taill'\t,'footlgth']])\n",
    "plt.title(\"boxplot after removing outliers\")\n",
    "plt.show()"
   ]
  },
  {
   "cell_type": "code",
   "execution_count": 19,
   "id": "10b57ab3",
   "metadata": {
    "execution": {
     "iopub.execute_input": "2025-07-30T11:57:28.936475Z",
     "iopub.status.busy": "2025-07-30T11:57:28.936158Z",
     "iopub.status.idle": "2025-07-30T11:57:28.940956Z",
     "shell.execute_reply": "2025-07-30T11:57:28.939956Z"
    },
    "papermill": {
     "duration": 0.015613,
     "end_time": "2025-07-30T11:57:28.942310",
     "exception": false,
     "start_time": "2025-07-30T11:57:28.926697",
     "status": "completed"
    },
    "tags": []
   },
   "outputs": [
    {
     "name": "stdout",
     "output_type": "stream",
     "text": [
      "Original shape: (101, 14)\n",
      "Cleaned shape : (88, 14)\n"
     ]
    }
   ],
   "source": [
    "print(\"Original shape:\", df.shape)\n",
    "print(\"Cleaned shape :\", df_no_outliers.shape)\n"
   ]
  },
  {
   "cell_type": "code",
   "execution_count": 20,
   "id": "13b5c00d",
   "metadata": {
    "execution": {
     "iopub.execute_input": "2025-07-30T11:57:28.961787Z",
     "iopub.status.busy": "2025-07-30T11:57:28.960897Z",
     "iopub.status.idle": "2025-07-30T11:57:28.981903Z",
     "shell.execute_reply": "2025-07-30T11:57:28.980840Z"
    },
    "papermill": {
     "duration": 0.032465,
     "end_time": "2025-07-30T11:57:28.983542",
     "exception": false,
     "start_time": "2025-07-30T11:57:28.951077",
     "status": "completed"
    },
    "tags": []
   },
   "outputs": [
    {
     "name": "stdout",
     "output_type": "stream",
     "text": [
      "     case  site    Pop sex       age   hdlngth    skullw  totlngth     taill  \\\n",
      "0       1     1    Vic   m  2.154723  0.518861  1.874350  0.418220 -0.653439   \n",
      "1       2     1    Vic   f  1.080414 -0.064185  0.511991  1.093263 -0.353946   \n",
      "2       3     1    Vic   f  1.080414  0.482421  1.679727  2.173331  1.143519   \n",
      "3       4     1    Vic   f  1.080414  0.190898  0.268712  1.228271  0.544533   \n",
      "4       5     1    Vic   f -1.068206 -0.428589 -0.120533 -0.526840 -0.653439   \n",
      "..    ...   ...    ...  ..       ...       ...       ...       ...       ...   \n",
      "99    100     7  other   m -1.605361 -1.157396 -0.266500 -1.606909 -0.353946   \n",
      "100   101     7  other   m -1.605361 -1.485360 -0.899024 -1.336892  1.143519   \n",
      "101   102     7  other   f  1.080414 -0.100625 -0.753057  0.418220  0.544533   \n",
      "102   103     7  other   m  0.006104 -0.428589 -0.655746 -1.336892 -0.353946   \n",
      "103   104     7  other   f -0.531051  0.336659  1.631071  0.418220  1.742505   \n",
      "\n",
      "     footlgth  earconch       eye     chest     belly  \n",
      "0    1.370679  1.513191  0.142692  0.559103  1.287488  \n",
      "1    0.924435  0.710138  0.933678  0.832443  0.125448  \n",
      "2    1.571489  0.880482  0.439312  1.652461  0.512794  \n",
      "3    1.727675  0.953487  0.142692  0.559103  0.512794  \n",
      "4    0.589752  1.196837  0.043819  0.832443  0.125448  \n",
      "..        ...       ...       ...       ...       ...  \n",
      "99  -0.525858 -0.360600 -0.252801 -2.174291 -2.198633  \n",
      "100 -0.882853 -0.068580 -1.043787 -1.080933  0.125448  \n",
      "101 -1.083663 -0.701289 -2.032519 -1.080933 -1.036593  \n",
      "102 -1.217536 -0.579614  0.340438 -1.080933 -1.423940  \n",
      "103 -0.168863 -0.555279 -0.252801  0.832443  0.319121  \n",
      "\n",
      "[88 rows x 14 columns]\n"
     ]
    }
   ],
   "source": [
    "scaler = StandardScaler()\n",
    "numeric_cols = ['age', 'hdlngth', 'skullw', 'totlngth', 'taill',\n",
    "                'footlgth', 'earconch', 'eye', 'chest', 'belly']\n",
    "df_no_outliers[numeric_cols] = scaler.fit_transform(df_no_outliers[numeric_cols])\n",
    "\n",
    "print(df_no_outliers)"
   ]
  },
  {
   "cell_type": "code",
   "execution_count": 21,
   "id": "6417296c",
   "metadata": {
    "execution": {
     "iopub.execute_input": "2025-07-30T11:57:29.005592Z",
     "iopub.status.busy": "2025-07-30T11:57:29.004703Z",
     "iopub.status.idle": "2025-07-30T11:57:29.034511Z",
     "shell.execute_reply": "2025-07-30T11:57:29.033535Z"
    },
    "papermill": {
     "duration": 0.041541,
     "end_time": "2025-07-30T11:57:29.036196",
     "exception": false,
     "start_time": "2025-07-30T11:57:28.994655",
     "status": "completed"
    },
    "tags": []
   },
   "outputs": [],
   "source": [
    "from sklearn.model_selection import train_test_split\n",
    "from sklearn.pipeline import Pipeline\n",
    "from sklearn.preprocessing import StandardScaler, OneHotEncoder\n",
    "from sklearn.compose import ColumnTransformer\n",
    "\n",
    "X = df.drop(columns=['case', 'age'])\n",
    "y = df['age']\n",
    "\n",
    "categorical_cols = ['Pop']\n",
    "numeric_cols = [col for col in X.columns if col not in categorical_cols]\n",
    "preprocessor = ColumnTransformer([\n",
    "    ('num', StandardScaler(), numeric_cols),\n",
    "    ('cat', OneHotEncoder(handle_unknown='ignore'), categorical_cols)\n",
    "])\n",
    "\n",
    "X_train, X_test, y_train, y_test = train_test_split(X, y, test_size=0.2, random_state=42)\n"
   ]
  },
  {
   "cell_type": "code",
   "execution_count": 22,
   "id": "d68e6f6e",
   "metadata": {
    "execution": {
     "iopub.execute_input": "2025-07-30T11:57:29.054917Z",
     "iopub.status.busy": "2025-07-30T11:57:29.054634Z",
     "iopub.status.idle": "2025-07-30T11:57:29.059468Z",
     "shell.execute_reply": "2025-07-30T11:57:29.058532Z"
    },
    "papermill": {
     "duration": 0.015779,
     "end_time": "2025-07-30T11:57:29.060814",
     "exception": false,
     "start_time": "2025-07-30T11:57:29.045035",
     "status": "completed"
    },
    "tags": []
   },
   "outputs": [
    {
     "name": "stdout",
     "output_type": "stream",
     "text": [
      "['case', 'site', 'Pop', 'sex', 'age', 'hdlngth', 'skullw', 'totlngth', 'taill', 'footlgth', 'earconch', 'eye', 'chest', 'belly']\n"
     ]
    }
   ],
   "source": [
    "print(df.columns.tolist())\n"
   ]
  },
  {
   "cell_type": "code",
   "execution_count": 23,
   "id": "b7d09e10",
   "metadata": {
    "execution": {
     "iopub.execute_input": "2025-07-30T11:57:29.080233Z",
     "iopub.status.busy": "2025-07-30T11:57:29.079928Z",
     "iopub.status.idle": "2025-07-30T11:57:29.093116Z",
     "shell.execute_reply": "2025-07-30T11:57:29.091994Z"
    },
    "papermill": {
     "duration": 0.024805,
     "end_time": "2025-07-30T11:57:29.094759",
     "exception": false,
     "start_time": "2025-07-30T11:57:29.069954",
     "status": "completed"
    },
    "tags": []
   },
   "outputs": [
    {
     "name": "stdout",
     "output_type": "stream",
     "text": [
      "     case  site    Pop sex  age  hdlngth  skullw  totlngth  taill  footlgth  \\\n",
      "0       1     1    Vic   m  8.0     94.1    60.4      89.0   36.0      74.5   \n",
      "1       2     1    Vic   f  6.0     92.5    57.6      91.5   36.5      72.5   \n",
      "2       3     1    Vic   f  6.0     94.0    60.0      95.5   39.0      75.4   \n",
      "3       4     1    Vic   f  6.0     93.2    57.1      92.0   38.0      76.1   \n",
      "4       5     1    Vic   f  2.0     91.5    56.3      85.5   36.0      71.0   \n",
      "..    ...   ...    ...  ..  ...      ...     ...       ...    ...       ...   \n",
      "99    100     7  other   m  1.0     89.5    56.0      81.5   36.5      66.0   \n",
      "100   101     7  other   m  1.0     88.6    54.7      82.5   39.0      64.4   \n",
      "101   102     7  other   f  6.0     92.4    55.0      89.0   38.0      63.5   \n",
      "102   103     7  other   m  4.0     91.5    55.2      82.5   36.5      62.9   \n",
      "103   104     7  other   f  3.0     93.6    59.9      89.0   40.0      67.6   \n",
      "\n",
      "     earconch   eye  chest  belly  \n",
      "0        54.5  15.2   28.0   36.0  \n",
      "1        51.2  16.0   28.5   33.0  \n",
      "2        51.9  15.5   30.0   34.0  \n",
      "3        52.2  15.2   28.0   34.0  \n",
      "4        53.2  15.1   28.5   33.0  \n",
      "..        ...   ...    ...    ...  \n",
      "99       46.8  14.8   23.0   27.0  \n",
      "100      48.0  14.0   25.0   33.0  \n",
      "101      45.4  13.0   25.0   30.0  \n",
      "102      45.9  15.4   25.0   29.0  \n",
      "103      46.0  14.8   28.5   33.5  \n",
      "\n",
      "[101 rows x 14 columns]\n"
     ]
    }
   ],
   "source": [
    "print(df)"
   ]
  },
  {
   "cell_type": "code",
   "execution_count": 24,
   "id": "e3654b3c",
   "metadata": {
    "execution": {
     "iopub.execute_input": "2025-07-30T11:57:29.115210Z",
     "iopub.status.busy": "2025-07-30T11:57:29.114888Z",
     "iopub.status.idle": "2025-07-30T11:57:29.125196Z",
     "shell.execute_reply": "2025-07-30T11:57:29.124333Z"
    },
    "papermill": {
     "duration": 0.022068,
     "end_time": "2025-07-30T11:57:29.126708",
     "exception": false,
     "start_time": "2025-07-30T11:57:29.104640",
     "status": "completed"
    },
    "tags": []
   },
   "outputs": [],
   "source": [
    "df_no_outliers['age_group'] = pd.cut(df_no_outliers['age'], bins=[-np.inf, 2, 4, 6, np.inf],\n",
    "                                     labels=['very_young', 'young', 'adult', 'old'])\n"
   ]
  },
  {
   "cell_type": "code",
   "execution_count": 25,
   "id": "87bb7b64",
   "metadata": {
    "execution": {
     "iopub.execute_input": "2025-07-30T11:57:29.146570Z",
     "iopub.status.busy": "2025-07-30T11:57:29.146197Z",
     "iopub.status.idle": "2025-07-30T11:57:29.330752Z",
     "shell.execute_reply": "2025-07-30T11:57:29.329596Z"
    },
    "papermill": {
     "duration": 0.196743,
     "end_time": "2025-07-30T11:57:29.332382",
     "exception": false,
     "start_time": "2025-07-30T11:57:29.135639",
     "status": "completed"
    },
    "tags": []
   },
   "outputs": [
    {
     "name": "stdout",
     "output_type": "stream",
     "text": [
      "Accuracy: 0.8888888888888888\n",
      "              precision    recall  f1-score   support\n",
      "\n",
      "  very_young       0.89      1.00      0.94        16\n",
      "       young       0.00      0.00      0.00         2\n",
      "\n",
      "    accuracy                           0.89        18\n",
      "   macro avg       0.44      0.50      0.47        18\n",
      "weighted avg       0.79      0.89      0.84        18\n",
      "\n"
     ]
    },
    {
     "name": "stderr",
     "output_type": "stream",
     "text": [
      "/usr/local/lib/python3.11/dist-packages/sklearn/metrics/_classification.py:1344: UndefinedMetricWarning: Precision and F-score are ill-defined and being set to 0.0 in labels with no predicted samples. Use `zero_division` parameter to control this behavior.\n",
      "  _warn_prf(average, modifier, msg_start, len(result))\n",
      "/usr/local/lib/python3.11/dist-packages/sklearn/metrics/_classification.py:1344: UndefinedMetricWarning: Precision and F-score are ill-defined and being set to 0.0 in labels with no predicted samples. Use `zero_division` parameter to control this behavior.\n",
      "  _warn_prf(average, modifier, msg_start, len(result))\n",
      "/usr/local/lib/python3.11/dist-packages/sklearn/metrics/_classification.py:1344: UndefinedMetricWarning: Precision and F-score are ill-defined and being set to 0.0 in labels with no predicted samples. Use `zero_division` parameter to control this behavior.\n",
      "  _warn_prf(average, modifier, msg_start, len(result))\n"
     ]
    }
   ],
   "source": [
    "from sklearn.model_selection import train_test_split\n",
    "from sklearn.pipeline import Pipeline\n",
    "from sklearn.preprocessing import StandardScaler, OneHotEncoder\n",
    "from sklearn.compose import ColumnTransformer\n",
    "from sklearn.ensemble import RandomForestClassifier\n",
    "from sklearn.metrics import accuracy_score, classification_report\n",
    "import numpy as np\n",
    "df_no_outliers['age_group'] = pd.cut(df_no_outliers['age'], bins=[-np.inf, 2, 4, 6, np.inf],\n",
    "                                     labels=['very_young', 'young', 'adult', 'old'])\n",
    "\n",
    "X = df_no_outliers.drop(columns=['case', 'age', 'age_group'])  # keep 'sex' and 'Pop' to be encoded\n",
    "y = df_no_outliers['age_group']\n",
    "categorical_cols = ['Pop', 'sex']  # both need encoding\n",
    "numeric_cols = [col for col in X.columns if col not in categorical_cols]\n",
    "\n",
    "preprocessor = ColumnTransformer([\n",
    "    ('num', StandardScaler(), numeric_cols),\n",
    "    ('cat', OneHotEncoder(handle_unknown='ignore'), categorical_cols)\n",
    "])\n",
    "X_train, X_test, y_train, y_test = train_test_split(X, y, test_size=0.2, random_state=42)\n",
    "clf_pipe = Pipeline([\n",
    "    ('preprocessor', preprocessor),\n",
    "    ('classifier', RandomForestClassifier(random_state=42))\n",
    "])\n",
    "clf_pipe.fit(X_train, y_train)\n",
    "y_pred_class = clf_pipe.predict(X_test)\n",
    "\n",
    "# Results\n",
    "print(\"Accuracy:\", accuracy_score(y_test, y_pred_class))\n",
    "print(classification_report(y_test, y_pred_class))\n"
   ]
  },
  {
   "cell_type": "code",
   "execution_count": 26,
   "id": "e9d7af28",
   "metadata": {
    "execution": {
     "iopub.execute_input": "2025-07-30T11:57:29.352177Z",
     "iopub.status.busy": "2025-07-30T11:57:29.351866Z",
     "iopub.status.idle": "2025-07-30T11:57:29.362039Z",
     "shell.execute_reply": "2025-07-30T11:57:29.361136Z"
    },
    "papermill": {
     "duration": 0.021833,
     "end_time": "2025-07-30T11:57:29.363541",
     "exception": false,
     "start_time": "2025-07-30T11:57:29.341708",
     "status": "completed"
    },
    "tags": []
   },
   "outputs": [],
   "source": [
    "from sklearn.model_selection import train_test_split\n",
    "from sklearn.pipeline import Pipeline\n",
    "from sklearn.preprocessing import StandardScaler, OneHotEncoder\n",
    "from sklearn.compose import ColumnTransformer\n",
    "\n",
    "X = df_no_outliers.drop(columns=['case', 'sex', 'age'])\n",
    "y = df_no_outliers['age']\n",
    "\n",
    "categorical_cols = ['Pop']\n",
    "numeric_cols = [col for col in X.columns if col not in categorical_cols]\n",
    "\n",
    "preprocessor = ColumnTransformer([\n",
    "    ('num', StandardScaler(), numeric_cols),\n",
    "    ('cat', OneHotEncoder(handle_unknown='ignore'), categorical_cols)\n",
    "])\n",
    "\n",
    "X_train, X_test, y_train, y_test = train_test_split(X, y, test_size=0.2, random_state=42)\n"
   ]
  },
  {
   "cell_type": "code",
   "execution_count": 27,
   "id": "6fdea58e",
   "metadata": {
    "execution": {
     "iopub.execute_input": "2025-07-30T11:57:29.382992Z",
     "iopub.status.busy": "2025-07-30T11:57:29.382696Z",
     "iopub.status.idle": "2025-07-30T11:57:29.393240Z",
     "shell.execute_reply": "2025-07-30T11:57:29.392421Z"
    },
    "papermill": {
     "duration": 0.022143,
     "end_time": "2025-07-30T11:57:29.394782",
     "exception": false,
     "start_time": "2025-07-30T11:57:29.372639",
     "status": "completed"
    },
    "tags": []
   },
   "outputs": [],
   "source": [
    "from sklearn.model_selection import train_test_split\n",
    "from sklearn.pipeline import Pipeline\n",
    "from sklearn.compose import ColumnTransformer\n",
    "from sklearn.preprocessing import StandardScaler, OneHotEncoder\n",
    "from sklearn.metrics import mean_squared_error, r2_score\n",
    "import pandas as pd\n",
    "\n",
    "X = df_no_outliers.drop(columns=['case', 'age_group', 'age'])\n",
    "y = df_no_outliers['age']  \n",
    "categorical_cols = X.select_dtypes(include='object').columns\n",
    "numerical_cols = X.select_dtypes(include='number').columns\n",
    "\n",
    "preprocessor = ColumnTransformer([\n",
    "    ('num', StandardScaler(), numerical_cols),\n",
    "    ('cat', OneHotEncoder(handle_unknown='ignore'), categorical_cols)\n",
    "])\n",
    "\n",
    "X_train, X_test, y_train, y_test = train_test_split(X, y, test_size=0.2, random_state=42)\n"
   ]
  },
  {
   "cell_type": "code",
   "execution_count": 28,
   "id": "125ed8b2",
   "metadata": {
    "execution": {
     "iopub.execute_input": "2025-07-30T11:57:29.414970Z",
     "iopub.status.busy": "2025-07-30T11:57:29.414613Z",
     "iopub.status.idle": "2025-07-30T11:57:29.435707Z",
     "shell.execute_reply": "2025-07-30T11:57:29.434704Z"
    },
    "papermill": {
     "duration": 0.033309,
     "end_time": "2025-07-30T11:57:29.437319",
     "exception": false,
     "start_time": "2025-07-30T11:57:29.404010",
     "status": "completed"
    },
    "tags": []
   },
   "outputs": [
    {
     "name": "stdout",
     "output_type": "stream",
     "text": [
      "Decision Tree Regressor:\n",
      "MSE: 2.0998960881966955\n",
      "R²: -0.5301752109020117\n"
     ]
    }
   ],
   "source": [
    "from sklearn.tree import DecisionTreeRegressor\n",
    "\n",
    "dtr = Pipeline([\n",
    "    ('preprocessor', preprocessor),\n",
    "    ('regressor', DecisionTreeRegressor(random_state=42))\n",
    "])\n",
    "dtr.fit(X_train, y_train)\n",
    "y_pred_dtr = dtr.predict(X_test)\n",
    "\n",
    "print(\"Decision Tree Regressor:\")\n",
    "print(\"MSE:\", mean_squared_error(y_test, y_pred_dtr))\n",
    "print(\"R²:\", r2_score(y_test, y_pred_dtr))\n"
   ]
  },
  {
   "cell_type": "code",
   "execution_count": 29,
   "id": "a2d673c0",
   "metadata": {
    "execution": {
     "iopub.execute_input": "2025-07-30T11:57:29.532171Z",
     "iopub.status.busy": "2025-07-30T11:57:29.531824Z",
     "iopub.status.idle": "2025-07-30T11:57:29.693381Z",
     "shell.execute_reply": "2025-07-30T11:57:29.692341Z"
    },
    "papermill": {
     "duration": 0.248049,
     "end_time": "2025-07-30T11:57:29.694814",
     "exception": false,
     "start_time": "2025-07-30T11:57:29.446765",
     "status": "completed"
    },
    "tags": []
   },
   "outputs": [
    {
     "name": "stdout",
     "output_type": "stream",
     "text": [
      "Random Forest Regressor:\n",
      "MSE: 1.0688711535038147\n",
      "R²: 0.2211232965606751\n"
     ]
    }
   ],
   "source": [
    "from sklearn.ensemble import RandomForestRegressor\n",
    "\n",
    "rfr = Pipeline([\n",
    "    ('preprocessor', preprocessor),\n",
    "    ('regressor', RandomForestRegressor(random_state=42))\n",
    "])\n",
    "rfr.fit(X_train, y_train)\n",
    "y_pred_rfr = rfr.predict(X_test)\n",
    "\n",
    "print(\"Random Forest Regressor:\")\n",
    "print(\"MSE:\", mean_squared_error(y_test, y_pred_rfr))\n",
    "print(\"R²:\", r2_score(y_test, y_pred_rfr))\n"
   ]
  },
  {
   "cell_type": "code",
   "execution_count": 30,
   "id": "94a60b5f",
   "metadata": {
    "execution": {
     "iopub.execute_input": "2025-07-30T11:57:29.715022Z",
     "iopub.status.busy": "2025-07-30T11:57:29.714676Z",
     "iopub.status.idle": "2025-07-30T11:57:29.752705Z",
     "shell.execute_reply": "2025-07-30T11:57:29.751757Z"
    },
    "papermill": {
     "duration": 0.049815,
     "end_time": "2025-07-30T11:57:29.754190",
     "exception": false,
     "start_time": "2025-07-30T11:57:29.704375",
     "status": "completed"
    },
    "tags": []
   },
   "outputs": [
    {
     "name": "stdout",
     "output_type": "stream",
     "text": [
      "Linear Regression:\n",
      "MSE: 1.0121649844773837\n",
      "R²: 0.26244456699743235\n"
     ]
    }
   ],
   "source": [
    "from sklearn.linear_model import LinearRegression\n",
    "\n",
    "lr = Pipeline([\n",
    "    ('preprocessor', preprocessor),\n",
    "    ('regressor', LinearRegression())\n",
    "])\n",
    "lr.fit(X_train, y_train)\n",
    "y_pred_lr = lr.predict(X_test)\n",
    "\n",
    "print(\"Linear Regression:\")\n",
    "print(\"MSE:\", mean_squared_error(y_test, y_pred_lr))\n",
    "print(\"R²:\", r2_score(y_test, y_pred_lr))\n"
   ]
  },
  {
   "cell_type": "code",
   "execution_count": 31,
   "id": "93a96d85",
   "metadata": {
    "execution": {
     "iopub.execute_input": "2025-07-30T11:57:29.774157Z",
     "iopub.status.busy": "2025-07-30T11:57:29.773869Z",
     "iopub.status.idle": "2025-07-30T11:57:29.890528Z",
     "shell.execute_reply": "2025-07-30T11:57:29.889308Z"
    },
    "papermill": {
     "duration": 0.128711,
     "end_time": "2025-07-30T11:57:29.892498",
     "exception": false,
     "start_time": "2025-07-30T11:57:29.763787",
     "status": "completed"
    },
    "tags": []
   },
   "outputs": [
    {
     "name": "stdout",
     "output_type": "stream",
     "text": [
      "Extra Trees Regressor:\n",
      "MSE: 1.059250102876825\n",
      "R²: 0.22813406878650233\n"
     ]
    }
   ],
   "source": [
    "from sklearn.ensemble import ExtraTreesRegressor\n",
    "\n",
    "etr = Pipeline([\n",
    "    ('preprocessor', preprocessor),\n",
    "    ('regressor', ExtraTreesRegressor(random_state=42))\n",
    "])\n",
    "etr.fit(X_train, y_train)\n",
    "y_pred_etr = etr.predict(X_test)\n",
    "\n",
    "print(\"Extra Trees Regressor:\")\n",
    "print(\"MSE:\", mean_squared_error(y_test, y_pred_etr))\n",
    "print(\"R²:\", r2_score(y_test, y_pred_etr))\n"
   ]
  },
  {
   "cell_type": "code",
   "execution_count": 32,
   "id": "33fad9b1",
   "metadata": {
    "execution": {
     "iopub.execute_input": "2025-07-30T11:57:29.913732Z",
     "iopub.status.busy": "2025-07-30T11:57:29.912954Z",
     "iopub.status.idle": "2025-07-30T11:57:29.965181Z",
     "shell.execute_reply": "2025-07-30T11:57:29.964100Z"
    },
    "papermill": {
     "duration": 0.064553,
     "end_time": "2025-07-30T11:57:29.966738",
     "exception": false,
     "start_time": "2025-07-30T11:57:29.902185",
     "status": "completed"
    },
    "tags": []
   },
   "outputs": [
    {
     "name": "stdout",
     "output_type": "stream",
     "text": [
      "Radius Neighbors Regressor (radius=5.0):\n",
      "MSE: 1.1345247443194235\n",
      "R²: 0.17328212111516983\n"
     ]
    },
    {
     "name": "stderr",
     "output_type": "stream",
     "text": [
      "/usr/local/lib/python3.11/dist-packages/sklearn/neighbors/_regression.py:494: UserWarning: One or more samples have no neighbors within specified radius; predicting NaN.\n",
      "  warnings.warn(empty_warning_msg)\n",
      "/usr/local/lib/python3.11/dist-packages/sklearn/neighbors/_regression.py:494: UserWarning: One or more samples have no neighbors within specified radius; predicting NaN.\n",
      "  warnings.warn(empty_warning_msg)\n"
     ]
    }
   ],
   "source": [
    "from sklearn.neighbors import RadiusNeighborsRegressor\n",
    "from sklearn.exceptions import ConvergenceWarning\n",
    "import warnings\n",
    "\n",
    "def safe_radius_regressor(X_train, y_train, X_test, radius_values=[1.0, 2.0, 5.0, 10.0]):\n",
    "    for radius in radius_values:\n",
    "        try:\n",
    "            with warnings.catch_warnings():\n",
    "                warnings.simplefilter(\"ignore\", ConvergenceWarning)\n",
    "                rnr = Pipeline([\n",
    "                    ('preprocessor', preprocessor),\n",
    "                    ('regressor', RadiusNeighborsRegressor(radius=radius, weights='distance'))\n",
    "                ])\n",
    "                rnr.fit(X_train, y_train)\n",
    "                y_pred = rnr.predict(X_test)\n",
    "                if not np.any(np.isnan(y_pred)):\n",
    "                    return radius, y_pred\n",
    "        except ValueError:\n",
    "            continue\n",
    "    return None, None\n",
    "\n",
    "radius, y_pred_rnr = safe_radius_regressor(X_train, y_train, X_test)\n",
    "if radius is not None:\n",
    "    print(f\"Radius Neighbors Regressor (radius={radius}):\")\n",
    "    print(\"MSE:\", mean_squared_error(y_test, y_pred_rnr))\n",
    "    print(\"R²:\", r2_score(y_test, y_pred_rnr))\n",
    "else:\n",
    "    print(\"RadiusNeighbors Regressor failed.\")\n"
   ]
  },
  {
   "cell_type": "code",
   "execution_count": 33,
   "id": "ea7b019a",
   "metadata": {
    "execution": {
     "iopub.execute_input": "2025-07-30T11:57:29.987410Z",
     "iopub.status.busy": "2025-07-30T11:57:29.987087Z",
     "iopub.status.idle": "2025-07-30T11:57:30.009062Z",
     "shell.execute_reply": "2025-07-30T11:57:30.008050Z"
    },
    "papermill": {
     "duration": 0.034009,
     "end_time": "2025-07-30T11:57:30.010690",
     "exception": false,
     "start_time": "2025-07-30T11:57:29.976681",
     "status": "completed"
    },
    "tags": []
   },
   "outputs": [
    {
     "name": "stdout",
     "output_type": "stream",
     "text": [
      "KNeighbors Regressor:\n",
      "MSE: 0.9329309338400589\n",
      "R²: 0.32018170019467873\n"
     ]
    }
   ],
   "source": [
    "from sklearn.neighbors import KNeighborsRegressor\n",
    "\n",
    "knr = Pipeline([\n",
    "    ('preprocessor', preprocessor),\n",
    "    ('regressor', KNeighborsRegressor(n_neighbors=5))\n",
    "])\n",
    "knr.fit(X_train, y_train)\n",
    "y_pred_knr = knr.predict(X_test)\n",
    "\n",
    "print(\"KNeighbors Regressor:\")\n",
    "print(\"MSE:\", mean_squared_error(y_test, y_pred_knr))\n",
    "print(\"R²:\", r2_score(y_test, y_pred_knr))\n"
   ]
  },
  {
   "cell_type": "code",
   "execution_count": 34,
   "id": "a56a0680",
   "metadata": {
    "execution": {
     "iopub.execute_input": "2025-07-30T11:57:30.033340Z",
     "iopub.status.busy": "2025-07-30T11:57:30.031880Z",
     "iopub.status.idle": "2025-07-30T11:57:30.069502Z",
     "shell.execute_reply": "2025-07-30T11:57:30.068471Z"
    },
    "papermill": {
     "duration": 0.050385,
     "end_time": "2025-07-30T11:57:30.070933",
     "exception": false,
     "start_time": "2025-07-30T11:57:30.020548",
     "status": "completed"
    },
    "tags": []
   },
   "outputs": [
    {
     "name": "stdout",
     "output_type": "stream",
     "text": [
      "Accuracy: 0.8888888888888888\n",
      "\n",
      "Classification Report:\n",
      "               precision    recall  f1-score   support\n",
      "\n",
      "  very_young       0.89      1.00      0.94        16\n",
      "       young       0.00      0.00      0.00         2\n",
      "\n",
      "    accuracy                           0.89        18\n",
      "   macro avg       0.44      0.50      0.47        18\n",
      "weighted avg       0.79      0.89      0.84        18\n",
      "\n",
      "\n",
      "Confusion Matrix:\n",
      " [[16  0]\n",
      " [ 2  0]]\n"
     ]
    },
    {
     "name": "stderr",
     "output_type": "stream",
     "text": [
      "/usr/local/lib/python3.11/dist-packages/sklearn/metrics/_classification.py:1344: UndefinedMetricWarning: Precision and F-score are ill-defined and being set to 0.0 in labels with no predicted samples. Use `zero_division` parameter to control this behavior.\n",
      "  _warn_prf(average, modifier, msg_start, len(result))\n",
      "/usr/local/lib/python3.11/dist-packages/sklearn/metrics/_classification.py:1344: UndefinedMetricWarning: Precision and F-score are ill-defined and being set to 0.0 in labels with no predicted samples. Use `zero_division` parameter to control this behavior.\n",
      "  _warn_prf(average, modifier, msg_start, len(result))\n",
      "/usr/local/lib/python3.11/dist-packages/sklearn/metrics/_classification.py:1344: UndefinedMetricWarning: Precision and F-score are ill-defined and being set to 0.0 in labels with no predicted samples. Use `zero_division` parameter to control this behavior.\n",
      "  _warn_prf(average, modifier, msg_start, len(result))\n"
     ]
    }
   ],
   "source": [
    "from sklearn.naive_bayes import GaussianNB\n",
    "from sklearn.metrics import accuracy_score, classification_report, confusion_matrix\n",
    "\n",
    "# Define features and target\n",
    "X = df_no_outliers.drop(columns=['case', 'sex', 'age', 'age_group'])  # Drop non-feature/target columns\n",
    "y = df_no_outliers['age_group']\n",
    "\n",
    "\n",
    "# One-hot encode categorical features (e.g. Pop)\n",
    "X_encoded = pd.get_dummies(X, drop_first=True)\n",
    "\n",
    "# Train-test split\n",
    "X_train, X_test, y_train, y_test = train_test_split(X_encoded, y, test_size=0.2, random_state=42)\n",
    "\n",
    "# Train Naive Bayes\n",
    "model = GaussianNB()\n",
    "model.fit(X_train, y_train)\n",
    "\n",
    "# Predictions\n",
    "y_pred = model.predict(X_test)\n",
    "\n",
    "# Evaluation\n",
    "print(\"Accuracy:\", accuracy_score(y_test, y_pred))\n",
    "print(\"\\nClassification Report:\\n\", classification_report(y_test, y_pred))\n",
    "print(\"\\nConfusion Matrix:\\n\", confusion_matrix(y_test, y_pred))\n"
   ]
  },
  {
   "cell_type": "code",
   "execution_count": 35,
   "id": "35e236a1",
   "metadata": {
    "execution": {
     "iopub.execute_input": "2025-07-30T11:57:30.092325Z",
     "iopub.status.busy": "2025-07-30T11:57:30.091955Z",
     "iopub.status.idle": "2025-07-30T11:57:30.124626Z",
     "shell.execute_reply": "2025-07-30T11:57:30.123237Z"
    },
    "papermill": {
     "duration": 0.04519,
     "end_time": "2025-07-30T11:57:30.126193",
     "exception": false,
     "start_time": "2025-07-30T11:57:30.081003",
     "status": "completed"
    },
    "tags": []
   },
   "outputs": [
    {
     "name": "stdout",
     "output_type": "stream",
     "text": [
      "SVM Classifier (RBF Kernel) Report:\n",
      "Accuracy: 0.8333333333333334\n",
      "              precision    recall  f1-score   support\n",
      "\n",
      "  very_young       0.88      0.94      0.91        16\n",
      "       young       0.00      0.00      0.00         2\n",
      "\n",
      "    accuracy                           0.83        18\n",
      "   macro avg       0.44      0.47      0.45        18\n",
      "weighted avg       0.78      0.83      0.81        18\n",
      "\n"
     ]
    }
   ],
   "source": [
    "from sklearn.svm import SVC\n",
    "from sklearn.pipeline import Pipeline\n",
    "from sklearn.compose import ColumnTransformer\n",
    "from sklearn.preprocessing import StandardScaler, OneHotEncoder\n",
    "from sklearn.metrics import classification_report, accuracy_score\n",
    "from sklearn.model_selection import train_test_split\n",
    "from sklearn.preprocessing import LabelEncoder\n",
    "\n",
    "# Use same data as previous models\n",
    "X = df_no_outliers.drop(columns=['case', 'sex', 'age', 'age_group'])  # Drop target and non-feature columns\n",
    "y = df_no_outliers['age_group']\n",
    "\n",
    "# One-hot encode categorical variables manually since SVM does not accept categorical input\n",
    "X_encoded = pd.get_dummies(X, drop_first=True)\n",
    "\n",
    "# Encode age_group labels numerically\n",
    "le = LabelEncoder()\n",
    "y_encoded = le.fit_transform(y)\n",
    "\n",
    "# Train-test split\n",
    "X_train, X_test, y_train, y_test = train_test_split(X_encoded, y_encoded, test_size=0.2, random_state=42)\n",
    "\n",
    "# Standardize features\n",
    "scaler = StandardScaler()\n",
    "X_train_scaled = scaler.fit_transform(X_train)\n",
    "X_test_scaled = scaler.transform(X_test)\n",
    "\n",
    "# Define and train the SVM classifier\n",
    "svm_clf = SVC(kernel='rbf', C=1.0, gamma='scale', class_weight='balanced')  # Handle class imbalance\n",
    "svm_clf.fit(X_train_scaled, y_train)\n",
    "\n",
    "# Predict and evaluate\n",
    "y_pred = svm_clf.predict(X_test_scaled)\n",
    "\n",
    "print(\"SVM Classifier (RBF Kernel) Report:\")\n",
    "print(\"Accuracy:\", accuracy_score(y_test, y_pred))\n",
    "print(classification_report(y_test, y_pred, target_names=le.classes_))\n"
   ]
  },
  {
   "cell_type": "code",
   "execution_count": 36,
   "id": "40f889ea",
   "metadata": {
    "execution": {
     "iopub.execute_input": "2025-07-30T11:57:30.147675Z",
     "iopub.status.busy": "2025-07-30T11:57:30.147377Z",
     "iopub.status.idle": "2025-07-30T11:57:30.171151Z",
     "shell.execute_reply": "2025-07-30T11:57:30.170145Z"
    },
    "papermill": {
     "duration": 0.036579,
     "end_time": "2025-07-30T11:57:30.172865",
     "exception": false,
     "start_time": "2025-07-30T11:57:30.136286",
     "status": "completed"
    },
    "tags": []
   },
   "outputs": [],
   "source": [
    "from sklearn.svm import SVC\n",
    "from sklearn.multiclass import OneVsRestClassifier, OneVsOneClassifier\n",
    "from sklearn.model_selection import train_test_split\n",
    "from sklearn.metrics import classification_report, accuracy_score\n",
    "from sklearn.preprocessing import LabelEncoder, StandardScaler\n",
    "import pandas as pd\n",
    "\n",
    "# Step 1: Prepare features and target\n",
    "X = df_no_outliers.drop(columns=['case', 'sex', 'age', 'age_group'])\n",
    "y = df_no_outliers['age_group']\n",
    "\n",
    "# Step 2: One-hot encode categorical features (e.g., Pop)\n",
    "X_encoded = pd.get_dummies(X, drop_first=True)\n",
    "\n",
    "# Step 3: Encode labels to integers\n",
    "le = LabelEncoder()\n",
    "y_encoded = le.fit_transform(y)\n",
    "\n",
    "# Step 4: Train-test split\n",
    "X_train, X_test, y_train, y_test = train_test_split(X_encoded, y_encoded, test_size=0.2, random_state=42)\n",
    "\n",
    "# Step 5: Standardize features\n",
    "scaler = StandardScaler()\n",
    "X_train_scaled = scaler.fit_transform(X_train)\n",
    "X_test_scaled = scaler.transform(X_test)\n"
   ]
  },
  {
   "cell_type": "code",
   "execution_count": 37,
   "id": "438e0aff",
   "metadata": {
    "execution": {
     "iopub.execute_input": "2025-07-30T11:57:30.193847Z",
     "iopub.status.busy": "2025-07-30T11:57:30.193502Z",
     "iopub.status.idle": "2025-07-30T11:57:30.211744Z",
     "shell.execute_reply": "2025-07-30T11:57:30.210820Z"
    },
    "papermill": {
     "duration": 0.030644,
     "end_time": "2025-07-30T11:57:30.213433",
     "exception": false,
     "start_time": "2025-07-30T11:57:30.182789",
     "status": "completed"
    },
    "tags": []
   },
   "outputs": [
    {
     "name": "stdout",
     "output_type": "stream",
     "text": [
      "🎯 One-vs-One SVM Accuracy: 0.8888888888888888\n",
      "              precision    recall  f1-score   support\n",
      "\n",
      "  very_young       0.89      1.00      0.94        16\n",
      "       young       0.00      0.00      0.00         2\n",
      "\n",
      "    accuracy                           0.89        18\n",
      "   macro avg       0.44      0.50      0.47        18\n",
      "weighted avg       0.79      0.89      0.84        18\n",
      "\n"
     ]
    },
    {
     "name": "stderr",
     "output_type": "stream",
     "text": [
      "/usr/local/lib/python3.11/dist-packages/sklearn/metrics/_classification.py:1344: UndefinedMetricWarning: Precision and F-score are ill-defined and being set to 0.0 in labels with no predicted samples. Use `zero_division` parameter to control this behavior.\n",
      "  _warn_prf(average, modifier, msg_start, len(result))\n",
      "/usr/local/lib/python3.11/dist-packages/sklearn/metrics/_classification.py:1344: UndefinedMetricWarning: Precision and F-score are ill-defined and being set to 0.0 in labels with no predicted samples. Use `zero_division` parameter to control this behavior.\n",
      "  _warn_prf(average, modifier, msg_start, len(result))\n",
      "/usr/local/lib/python3.11/dist-packages/sklearn/metrics/_classification.py:1344: UndefinedMetricWarning: Precision and F-score are ill-defined and being set to 0.0 in labels with no predicted samples. Use `zero_division` parameter to control this behavior.\n",
      "  _warn_prf(average, modifier, msg_start, len(result))\n"
     ]
    }
   ],
   "source": [
    "# One-vs-One\n",
    "ovo_svm = OneVsOneClassifier(SVC(kernel='rbf', C=1.0, gamma='scale'))\n",
    "ovo_svm.fit(X_train_scaled, y_train)\n",
    "\n",
    "y_pred_ovo = ovo_svm.predict(X_test_scaled)\n",
    "\n",
    "print(\"🎯 One-vs-One SVM Accuracy:\", accuracy_score(y_test, y_pred_ovo))\n",
    "print(classification_report(y_test, y_pred_ovo, target_names=le.classes_))\n"
   ]
  },
  {
   "cell_type": "code",
   "execution_count": 38,
   "id": "c84591ed",
   "metadata": {
    "execution": {
     "iopub.execute_input": "2025-07-30T11:57:30.234819Z",
     "iopub.status.busy": "2025-07-30T11:57:30.234520Z",
     "iopub.status.idle": "2025-07-30T11:57:30.256409Z",
     "shell.execute_reply": "2025-07-30T11:57:30.255448Z"
    },
    "papermill": {
     "duration": 0.03424,
     "end_time": "2025-07-30T11:57:30.257921",
     "exception": false,
     "start_time": "2025-07-30T11:57:30.223681",
     "status": "completed"
    },
    "tags": []
   },
   "outputs": [
    {
     "name": "stdout",
     "output_type": "stream",
     "text": [
      "🎯 One-vs-All SVM Accuracy: 0.8888888888888888\n",
      "              precision    recall  f1-score   support\n",
      "\n",
      "  very_young       0.89      1.00      0.94        16\n",
      "       young       0.00      0.00      0.00         2\n",
      "\n",
      "    accuracy                           0.89        18\n",
      "   macro avg       0.44      0.50      0.47        18\n",
      "weighted avg       0.79      0.89      0.84        18\n",
      "\n"
     ]
    },
    {
     "name": "stderr",
     "output_type": "stream",
     "text": [
      "/usr/local/lib/python3.11/dist-packages/sklearn/metrics/_classification.py:1344: UndefinedMetricWarning: Precision and F-score are ill-defined and being set to 0.0 in labels with no predicted samples. Use `zero_division` parameter to control this behavior.\n",
      "  _warn_prf(average, modifier, msg_start, len(result))\n",
      "/usr/local/lib/python3.11/dist-packages/sklearn/metrics/_classification.py:1344: UndefinedMetricWarning: Precision and F-score are ill-defined and being set to 0.0 in labels with no predicted samples. Use `zero_division` parameter to control this behavior.\n",
      "  _warn_prf(average, modifier, msg_start, len(result))\n",
      "/usr/local/lib/python3.11/dist-packages/sklearn/metrics/_classification.py:1344: UndefinedMetricWarning: Precision and F-score are ill-defined and being set to 0.0 in labels with no predicted samples. Use `zero_division` parameter to control this behavior.\n",
      "  _warn_prf(average, modifier, msg_start, len(result))\n"
     ]
    }
   ],
   "source": [
    "# One-vs-All\n",
    "ova_svm = OneVsRestClassifier(SVC(kernel='rbf', C=1.0, gamma='scale'))\n",
    "ova_svm.fit(X_train_scaled, y_train)\n",
    "\n",
    "y_pred_ova = ova_svm.predict(X_test_scaled)\n",
    "\n",
    "print(\"🎯 One-vs-All SVM Accuracy:\", accuracy_score(y_test, y_pred_ova))\n",
    "print(classification_report(y_test, y_pred_ova, target_names=le.classes_))\n"
   ]
  }
 ],
 "metadata": {
  "kaggle": {
   "accelerator": "none",
   "dataSources": [
    {
     "datasetId": 1534513,
     "sourceId": 2532158,
     "sourceType": "datasetVersion"
    }
   ],
   "dockerImageVersionId": 31089,
   "isGpuEnabled": false,
   "isInternetEnabled": false,
   "language": "python",
   "sourceType": "notebook"
  },
  "kernelspec": {
   "display_name": "Python 3",
   "language": "python",
   "name": "python3"
  },
  "language_info": {
   "codemirror_mode": {
    "name": "ipython",
    "version": 3
   },
   "file_extension": ".py",
   "mimetype": "text/x-python",
   "name": "python",
   "nbconvert_exporter": "python",
   "pygments_lexer": "ipython3",
   "version": "3.11.13"
  },
  "papermill": {
   "default_parameters": {},
   "duration": 12.915959,
   "end_time": "2025-07-30T11:57:30.989902",
   "environment_variables": {},
   "exception": null,
   "input_path": "__notebook__.ipynb",
   "output_path": "__notebook__.ipynb",
   "parameters": {},
   "start_time": "2025-07-30T11:57:18.073943",
   "version": "2.6.0"
  }
 },
 "nbformat": 4,
 "nbformat_minor": 5
}
