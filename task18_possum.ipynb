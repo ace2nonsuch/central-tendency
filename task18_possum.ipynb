{
 "cells": [
  {
   "cell_type": "markdown",
   "id": "f5e9a74e",
   "metadata": {},
   "source": [
    "Your task is to perform statistical analysis using this dataset.\n",
    "https://www.kaggle.com/datasets/abrambeyer/openintro-possum\n",
    "You are to document in detail, the interpretation of your results from all the measures of centre, all measures of spread,  and outlier detection mechanisms."
   ]
  },
  {
   "cell_type": "code",
   "execution_count": 3,
   "id": "11ce2d93",
   "metadata": {},
   "outputs": [
    {
     "name": "stdout",
     "output_type": "stream",
     "text": [
      "Requirement already satisfied: scipy in c:\\users\\ace7n\\appdata\\local\\programs\\python\\python313\\lib\\site-packages (1.16.2)\n",
      "Requirement already satisfied: numpy<2.6,>=1.25.2 in c:\\users\\ace7n\\appdata\\local\\programs\\python\\python313\\lib\\site-packages (from scipy) (2.3.2)\n",
      "Note: you may need to restart the kernel to use updated packages.\n",
      "Requirement already satisfied: missingno in c:\\users\\ace7n\\appdata\\local\\programs\\python\\python313\\lib\\site-packages (0.5.2)\n",
      "Requirement already satisfied: numpy in c:\\users\\ace7n\\appdata\\local\\programs\\python\\python313\\lib\\site-packages (from missingno) (2.3.2)\n",
      "Requirement already satisfied: matplotlib in c:\\users\\ace7n\\appdata\\local\\programs\\python\\python313\\lib\\site-packages (from missingno) (3.10.6)\n",
      "Requirement already satisfied: scipy in c:\\users\\ace7n\\appdata\\local\\programs\\python\\python313\\lib\\site-packages (from missingno) (1.16.2)\n",
      "Requirement already satisfied: seaborn in c:\\users\\ace7n\\appdata\\local\\programs\\python\\python313\\lib\\site-packages (from missingno) (0.13.2)\n",
      "Requirement already satisfied: contourpy>=1.0.1 in c:\\users\\ace7n\\appdata\\local\\programs\\python\\python313\\lib\\site-packages (from matplotlib->missingno) (1.3.3)\n",
      "Requirement already satisfied: cycler>=0.10 in c:\\users\\ace7n\\appdata\\local\\programs\\python\\python313\\lib\\site-packages (from matplotlib->missingno) (0.12.1)\n",
      "Requirement already satisfied: fonttools>=4.22.0 in c:\\users\\ace7n\\appdata\\local\\programs\\python\\python313\\lib\\site-packages (from matplotlib->missingno) (4.59.2)\n",
      "Requirement already satisfied: kiwisolver>=1.3.1 in c:\\users\\ace7n\\appdata\\local\\programs\\python\\python313\\lib\\site-packages (from matplotlib->missingno) (1.4.9)\n",
      "Requirement already satisfied: packaging>=20.0 in c:\\users\\ace7n\\appdata\\roaming\\python\\python313\\site-packages (from matplotlib->missingno) (25.0)\n",
      "Requirement already satisfied: pillow>=8 in c:\\users\\ace7n\\appdata\\local\\programs\\python\\python313\\lib\\site-packages (from matplotlib->missingno) (11.3.0)\n",
      "Requirement already satisfied: pyparsing>=2.3.1 in c:\\users\\ace7n\\appdata\\local\\programs\\python\\python313\\lib\\site-packages (from matplotlib->missingno) (3.2.3)\n",
      "Requirement already satisfied: python-dateutil>=2.7 in c:\\users\\ace7n\\appdata\\roaming\\python\\python313\\site-packages (from matplotlib->missingno) (2.9.0.post0)\n",
      "Requirement already satisfied: six>=1.5 in c:\\users\\ace7n\\appdata\\roaming\\python\\python313\\site-packages (from python-dateutil>=2.7->matplotlib->missingno) (1.17.0)\n",
      "Requirement already satisfied: pandas>=1.2 in c:\\users\\ace7n\\appdata\\local\\programs\\python\\python313\\lib\\site-packages (from seaborn->missingno) (2.3.2)\n",
      "Requirement already satisfied: pytz>=2020.1 in c:\\users\\ace7n\\appdata\\local\\programs\\python\\python313\\lib\\site-packages (from pandas>=1.2->seaborn->missingno) (2025.2)\n",
      "Requirement already satisfied: tzdata>=2022.7 in c:\\users\\ace7n\\appdata\\local\\programs\\python\\python313\\lib\\site-packages (from pandas>=1.2->seaborn->missingno) (2025.2)\n",
      "Note: you may need to restart the kernel to use updated packages.\n",
      "imported successes \n",
      "Requirement already satisfied: missingno in c:\\users\\ace7n\\appdata\\local\\programs\\python\\python313\\lib\\site-packages (0.5.2)\n",
      "Requirement already satisfied: numpy in c:\\users\\ace7n\\appdata\\local\\programs\\python\\python313\\lib\\site-packages (from missingno) (2.3.2)\n",
      "Requirement already satisfied: matplotlib in c:\\users\\ace7n\\appdata\\local\\programs\\python\\python313\\lib\\site-packages (from missingno) (3.10.6)\n",
      "Requirement already satisfied: scipy in c:\\users\\ace7n\\appdata\\local\\programs\\python\\python313\\lib\\site-packages (from missingno) (1.16.2)\n",
      "Requirement already satisfied: seaborn in c:\\users\\ace7n\\appdata\\local\\programs\\python\\python313\\lib\\site-packages (from missingno) (0.13.2)\n",
      "Requirement already satisfied: contourpy>=1.0.1 in c:\\users\\ace7n\\appdata\\local\\programs\\python\\python313\\lib\\site-packages (from matplotlib->missingno) (1.3.3)\n",
      "Requirement already satisfied: cycler>=0.10 in c:\\users\\ace7n\\appdata\\local\\programs\\python\\python313\\lib\\site-packages (from matplotlib->missingno) (0.12.1)\n",
      "Requirement already satisfied: fonttools>=4.22.0 in c:\\users\\ace7n\\appdata\\local\\programs\\python\\python313\\lib\\site-packages (from matplotlib->missingno) (4.59.2)\n",
      "Requirement already satisfied: kiwisolver>=1.3.1 in c:\\users\\ace7n\\appdata\\local\\programs\\python\\python313\\lib\\site-packages (from matplotlib->missingno) (1.4.9)\n",
      "Requirement already satisfied: packaging>=20.0 in c:\\users\\ace7n\\appdata\\roaming\\python\\python313\\site-packages (from matplotlib->missingno) (25.0)\n",
      "Requirement already satisfied: pillow>=8 in c:\\users\\ace7n\\appdata\\local\\programs\\python\\python313\\lib\\site-packages (from matplotlib->missingno) (11.3.0)\n",
      "Requirement already satisfied: pyparsing>=2.3.1 in c:\\users\\ace7n\\appdata\\local\\programs\\python\\python313\\lib\\site-packages (from matplotlib->missingno) (3.2.3)\n",
      "Requirement already satisfied: python-dateutil>=2.7 in c:\\users\\ace7n\\appdata\\roaming\\python\\python313\\site-packages (from matplotlib->missingno) (2.9.0.post0)\n",
      "Requirement already satisfied: six>=1.5 in c:\\users\\ace7n\\appdata\\roaming\\python\\python313\\site-packages (from python-dateutil>=2.7->matplotlib->missingno) (1.17.0)\n",
      "Requirement already satisfied: pandas>=1.2 in c:\\users\\ace7n\\appdata\\local\\programs\\python\\python313\\lib\\site-packages (from seaborn->missingno) (2.3.2)\n",
      "Requirement already satisfied: pytz>=2020.1 in c:\\users\\ace7n\\appdata\\local\\programs\\python\\python313\\lib\\site-packages (from pandas>=1.2->seaborn->missingno) (2025.2)\n",
      "Requirement already satisfied: tzdata>=2022.7 in c:\\users\\ace7n\\appdata\\local\\programs\\python\\python313\\lib\\site-packages (from pandas>=1.2->seaborn->missingno) (2025.2)\n",
      "Note: you may need to restart the kernel to use updated packages.\n",
      "imported successes \n"
     ]
    }
   ],
   "source": [
    "# importing  neccesary libraries\n",
    "\n",
    "%pip install scipy  \n",
    "%pip install missingno \n",
    "\n",
    "import pandas as pd  #pandas for data manipulation\n",
    "import numpy as np  #numpy for numerical operations\n",
    "import matplotlib.pyplot as plt #matplotlib for data visualization \n",
    "import seaborn as sns   #seaborn for statistical data visualization\n",
    "import os  #os for operating system interactions\n",
    "import scipy.stats as stats  #scipy for scientific computing\n",
    "import statistics  #statistics for statistical functions\n",
    "\n",
    "\n",
    "print(\"imported successes \")"
   ]
  },
  {
   "cell_type": "code",
   "execution_count": 4,
   "id": "0c48e5de",
   "metadata": {},
   "outputs": [
    {
     "name": "stdout",
     "output_type": "stream",
     "text": [
      "Data Loaded Successfully\n"
     ]
    }
   ],
   "source": [
    "#Load in the posson dataset from the data folder\n",
    "possum_data = pd.read_csv('possum.csv')    # Load the dataset\n",
    "print(\"Data Loaded Successfully\")"
   ]
  },
  {
   "cell_type": "code",
   "execution_count": 135,
   "id": "760b11f2",
   "metadata": {},
   "outputs": [
    {
     "data": {
      "text/html": [
       "<div>\n",
       "<style scoped>\n",
       "    .dataframe tbody tr th:only-of-type {\n",
       "        vertical-align: middle;\n",
       "    }\n",
       "\n",
       "    .dataframe tbody tr th {\n",
       "        vertical-align: top;\n",
       "    }\n",
       "\n",
       "    .dataframe thead th {\n",
       "        text-align: right;\n",
       "    }\n",
       "</style>\n",
       "<table border=\"1\" class=\"dataframe\">\n",
       "  <thead>\n",
       "    <tr style=\"text-align: right;\">\n",
       "      <th></th>\n",
       "      <th>case</th>\n",
       "      <th>site</th>\n",
       "      <th>Pop</th>\n",
       "      <th>sex</th>\n",
       "      <th>age</th>\n",
       "      <th>hdlngth</th>\n",
       "      <th>skullw</th>\n",
       "      <th>totlngth</th>\n",
       "      <th>taill</th>\n",
       "      <th>footlgth</th>\n",
       "      <th>earconch</th>\n",
       "      <th>eye</th>\n",
       "      <th>chest</th>\n",
       "      <th>belly</th>\n",
       "    </tr>\n",
       "  </thead>\n",
       "  <tbody>\n",
       "    <tr>\n",
       "      <th>0</th>\n",
       "      <td>1</td>\n",
       "      <td>1</td>\n",
       "      <td>Vic</td>\n",
       "      <td>m</td>\n",
       "      <td>8.0</td>\n",
       "      <td>94.1</td>\n",
       "      <td>60.4</td>\n",
       "      <td>89.0</td>\n",
       "      <td>36.0</td>\n",
       "      <td>74.5</td>\n",
       "      <td>54.5</td>\n",
       "      <td>15.2</td>\n",
       "      <td>28.0</td>\n",
       "      <td>36.0</td>\n",
       "    </tr>\n",
       "    <tr>\n",
       "      <th>1</th>\n",
       "      <td>2</td>\n",
       "      <td>1</td>\n",
       "      <td>Vic</td>\n",
       "      <td>f</td>\n",
       "      <td>6.0</td>\n",
       "      <td>92.5</td>\n",
       "      <td>57.6</td>\n",
       "      <td>91.5</td>\n",
       "      <td>36.5</td>\n",
       "      <td>72.5</td>\n",
       "      <td>51.2</td>\n",
       "      <td>16.0</td>\n",
       "      <td>28.5</td>\n",
       "      <td>33.0</td>\n",
       "    </tr>\n",
       "    <tr>\n",
       "      <th>2</th>\n",
       "      <td>3</td>\n",
       "      <td>1</td>\n",
       "      <td>Vic</td>\n",
       "      <td>f</td>\n",
       "      <td>6.0</td>\n",
       "      <td>94.0</td>\n",
       "      <td>60.0</td>\n",
       "      <td>95.5</td>\n",
       "      <td>39.0</td>\n",
       "      <td>75.4</td>\n",
       "      <td>51.9</td>\n",
       "      <td>15.5</td>\n",
       "      <td>30.0</td>\n",
       "      <td>34.0</td>\n",
       "    </tr>\n",
       "    <tr>\n",
       "      <th>3</th>\n",
       "      <td>4</td>\n",
       "      <td>1</td>\n",
       "      <td>Vic</td>\n",
       "      <td>f</td>\n",
       "      <td>6.0</td>\n",
       "      <td>93.2</td>\n",
       "      <td>57.1</td>\n",
       "      <td>92.0</td>\n",
       "      <td>38.0</td>\n",
       "      <td>76.1</td>\n",
       "      <td>52.2</td>\n",
       "      <td>15.2</td>\n",
       "      <td>28.0</td>\n",
       "      <td>34.0</td>\n",
       "    </tr>\n",
       "    <tr>\n",
       "      <th>4</th>\n",
       "      <td>5</td>\n",
       "      <td>1</td>\n",
       "      <td>Vic</td>\n",
       "      <td>f</td>\n",
       "      <td>2.0</td>\n",
       "      <td>91.5</td>\n",
       "      <td>56.3</td>\n",
       "      <td>85.5</td>\n",
       "      <td>36.0</td>\n",
       "      <td>71.0</td>\n",
       "      <td>53.2</td>\n",
       "      <td>15.1</td>\n",
       "      <td>28.5</td>\n",
       "      <td>33.0</td>\n",
       "    </tr>\n",
       "  </tbody>\n",
       "</table>\n",
       "</div>"
      ],
      "text/plain": [
       "   case  site  Pop sex  age  hdlngth  skullw  totlngth  taill  footlgth  \\\n",
       "0     1     1  Vic   m  8.0     94.1    60.4      89.0   36.0      74.5   \n",
       "1     2     1  Vic   f  6.0     92.5    57.6      91.5   36.5      72.5   \n",
       "2     3     1  Vic   f  6.0     94.0    60.0      95.5   39.0      75.4   \n",
       "3     4     1  Vic   f  6.0     93.2    57.1      92.0   38.0      76.1   \n",
       "4     5     1  Vic   f  2.0     91.5    56.3      85.5   36.0      71.0   \n",
       "\n",
       "   earconch   eye  chest  belly  \n",
       "0      54.5  15.2   28.0   36.0  \n",
       "1      51.2  16.0   28.5   33.0  \n",
       "2      51.9  15.5   30.0   34.0  \n",
       "3      52.2  15.2   28.0   34.0  \n",
       "4      53.2  15.1   28.5   33.0  "
      ]
     },
     "execution_count": 135,
     "metadata": {},
     "output_type": "execute_result"
    }
   ],
   "source": [
    "#viewing a few rows of the dataset\n",
    "possum_data.head()"
   ]
  },
  {
   "cell_type": "code",
   "execution_count": 136,
   "id": "0c6dc222",
   "metadata": {},
   "outputs": [
    {
     "data": {
      "text/html": [
       "<div>\n",
       "<style scoped>\n",
       "    .dataframe tbody tr th:only-of-type {\n",
       "        vertical-align: middle;\n",
       "    }\n",
       "\n",
       "    .dataframe tbody tr th {\n",
       "        vertical-align: top;\n",
       "    }\n",
       "\n",
       "    .dataframe thead th {\n",
       "        text-align: right;\n",
       "    }\n",
       "</style>\n",
       "<table border=\"1\" class=\"dataframe\">\n",
       "  <thead>\n",
       "    <tr style=\"text-align: right;\">\n",
       "      <th></th>\n",
       "      <th>case</th>\n",
       "      <th>site</th>\n",
       "      <th>Pop</th>\n",
       "      <th>sex</th>\n",
       "      <th>age</th>\n",
       "      <th>hdlngth</th>\n",
       "      <th>skullw</th>\n",
       "      <th>totlngth</th>\n",
       "      <th>taill</th>\n",
       "      <th>footlgth</th>\n",
       "      <th>earconch</th>\n",
       "      <th>eye</th>\n",
       "      <th>chest</th>\n",
       "      <th>belly</th>\n",
       "    </tr>\n",
       "  </thead>\n",
       "  <tbody>\n",
       "    <tr>\n",
       "      <th>99</th>\n",
       "      <td>100</td>\n",
       "      <td>7</td>\n",
       "      <td>other</td>\n",
       "      <td>m</td>\n",
       "      <td>1.0</td>\n",
       "      <td>89.5</td>\n",
       "      <td>56.0</td>\n",
       "      <td>81.5</td>\n",
       "      <td>36.5</td>\n",
       "      <td>66.0</td>\n",
       "      <td>46.8</td>\n",
       "      <td>14.8</td>\n",
       "      <td>23.0</td>\n",
       "      <td>27.0</td>\n",
       "    </tr>\n",
       "    <tr>\n",
       "      <th>100</th>\n",
       "      <td>101</td>\n",
       "      <td>7</td>\n",
       "      <td>other</td>\n",
       "      <td>m</td>\n",
       "      <td>1.0</td>\n",
       "      <td>88.6</td>\n",
       "      <td>54.7</td>\n",
       "      <td>82.5</td>\n",
       "      <td>39.0</td>\n",
       "      <td>64.4</td>\n",
       "      <td>48.0</td>\n",
       "      <td>14.0</td>\n",
       "      <td>25.0</td>\n",
       "      <td>33.0</td>\n",
       "    </tr>\n",
       "    <tr>\n",
       "      <th>101</th>\n",
       "      <td>102</td>\n",
       "      <td>7</td>\n",
       "      <td>other</td>\n",
       "      <td>f</td>\n",
       "      <td>6.0</td>\n",
       "      <td>92.4</td>\n",
       "      <td>55.0</td>\n",
       "      <td>89.0</td>\n",
       "      <td>38.0</td>\n",
       "      <td>63.5</td>\n",
       "      <td>45.4</td>\n",
       "      <td>13.0</td>\n",
       "      <td>25.0</td>\n",
       "      <td>30.0</td>\n",
       "    </tr>\n",
       "    <tr>\n",
       "      <th>102</th>\n",
       "      <td>103</td>\n",
       "      <td>7</td>\n",
       "      <td>other</td>\n",
       "      <td>m</td>\n",
       "      <td>4.0</td>\n",
       "      <td>91.5</td>\n",
       "      <td>55.2</td>\n",
       "      <td>82.5</td>\n",
       "      <td>36.5</td>\n",
       "      <td>62.9</td>\n",
       "      <td>45.9</td>\n",
       "      <td>15.4</td>\n",
       "      <td>25.0</td>\n",
       "      <td>29.0</td>\n",
       "    </tr>\n",
       "    <tr>\n",
       "      <th>103</th>\n",
       "      <td>104</td>\n",
       "      <td>7</td>\n",
       "      <td>other</td>\n",
       "      <td>f</td>\n",
       "      <td>3.0</td>\n",
       "      <td>93.6</td>\n",
       "      <td>59.9</td>\n",
       "      <td>89.0</td>\n",
       "      <td>40.0</td>\n",
       "      <td>67.6</td>\n",
       "      <td>46.0</td>\n",
       "      <td>14.8</td>\n",
       "      <td>28.5</td>\n",
       "      <td>33.5</td>\n",
       "    </tr>\n",
       "  </tbody>\n",
       "</table>\n",
       "</div>"
      ],
      "text/plain": [
       "     case  site    Pop sex  age  hdlngth  skullw  totlngth  taill  footlgth  \\\n",
       "99    100     7  other   m  1.0     89.5    56.0      81.5   36.5      66.0   \n",
       "100   101     7  other   m  1.0     88.6    54.7      82.5   39.0      64.4   \n",
       "101   102     7  other   f  6.0     92.4    55.0      89.0   38.0      63.5   \n",
       "102   103     7  other   m  4.0     91.5    55.2      82.5   36.5      62.9   \n",
       "103   104     7  other   f  3.0     93.6    59.9      89.0   40.0      67.6   \n",
       "\n",
       "     earconch   eye  chest  belly  \n",
       "99       46.8  14.8   23.0   27.0  \n",
       "100      48.0  14.0   25.0   33.0  \n",
       "101      45.4  13.0   25.0   30.0  \n",
       "102      45.9  15.4   25.0   29.0  \n",
       "103      46.0  14.8   28.5   33.5  "
      ]
     },
     "execution_count": 136,
     "metadata": {},
     "output_type": "execute_result"
    }
   ],
   "source": [
    "#viewing the last few rows of the dataset\n",
    "possum_data.tail()"
   ]
  },
  {
   "cell_type": "code",
   "execution_count": 137,
   "id": "1620202c",
   "metadata": {},
   "outputs": [
    {
     "data": {
      "text/plain": [
       "(104, 14)"
      ]
     },
     "execution_count": 137,
     "metadata": {},
     "output_type": "execute_result"
    }
   ],
   "source": [
    "# Viewing  the number of rows and columns in the dataset\n",
    "possum_data.shape"
   ]
  },
  {
   "cell_type": "code",
   "execution_count": 5,
   "id": "88836da0",
   "metadata": {},
   "outputs": [
    {
     "name": "stdout",
     "output_type": "stream",
     "text": [
      "<class 'pandas.core.frame.DataFrame'>\n",
      "RangeIndex: 104 entries, 0 to 103\n",
      "Data columns (total 14 columns):\n",
      " #   Column    Non-Null Count  Dtype  \n",
      "---  ------    --------------  -----  \n",
      " 0   case      104 non-null    int64  \n",
      " 1   site      104 non-null    int64  \n",
      " 2   Pop       104 non-null    object \n",
      " 3   sex       104 non-null    object \n",
      " 4   age       102 non-null    float64\n",
      " 5   hdlngth   104 non-null    float64\n",
      " 6   skullw    104 non-null    float64\n",
      " 7   totlngth  104 non-null    float64\n",
      " 8   taill     104 non-null    float64\n",
      " 9   footlgth  103 non-null    float64\n",
      " 10  earconch  104 non-null    float64\n",
      " 11  eye       104 non-null    float64\n",
      " 12  chest     104 non-null    float64\n",
      " 13  belly     104 non-null    float64\n",
      "dtypes: float64(10), int64(2), object(2)\n",
      "memory usage: 11.5+ KB\n"
     ]
    }
   ],
   "source": [
    "possum_data.info()"
   ]
  },
  {
   "cell_type": "code",
   "execution_count": 138,
   "id": "44a928bc",
   "metadata": {},
   "outputs": [
    {
     "data": {
      "text/plain": [
       "case          int64\n",
       "site          int64\n",
       "Pop          object\n",
       "sex          object\n",
       "age         float64\n",
       "hdlngth     float64\n",
       "skullw      float64\n",
       "totlngth    float64\n",
       "taill       float64\n",
       "footlgth    float64\n",
       "earconch    float64\n",
       "eye         float64\n",
       "chest       float64\n",
       "belly       float64\n",
       "dtype: object"
      ]
     },
     "execution_count": 138,
     "metadata": {},
     "output_type": "execute_result"
    }
   ],
   "source": [
    "# Viewing the data types of each column\n",
    "possum_data.dtypes"
   ]
  },
  {
   "cell_type": "code",
   "execution_count": 139,
   "id": "1e454f4a",
   "metadata": {},
   "outputs": [
    {
     "name": "stdout",
     "output_type": "stream",
     "text": [
      "<class 'pandas.core.frame.DataFrame'>\n",
      "RangeIndex: 104 entries, 0 to 103\n",
      "Data columns (total 14 columns):\n",
      " #   Column    Non-Null Count  Dtype  \n",
      "---  ------    --------------  -----  \n",
      " 0   case      104 non-null    int64  \n",
      " 1   site      104 non-null    int64  \n",
      " 2   Pop       104 non-null    object \n",
      " 3   sex       104 non-null    object \n",
      " 4   age       102 non-null    float64\n",
      " 5   hdlngth   104 non-null    float64\n",
      " 6   skullw    104 non-null    float64\n",
      " 7   totlngth  104 non-null    float64\n",
      " 8   taill     104 non-null    float64\n",
      " 9   footlgth  103 non-null    float64\n",
      " 10  earconch  104 non-null    float64\n",
      " 11  eye       104 non-null    float64\n",
      " 12  chest     104 non-null    float64\n",
      " 13  belly     104 non-null    float64\n",
      "dtypes: float64(10), int64(2), object(2)\n",
      "memory usage: 11.5+ KB\n"
     ]
    }
   ],
   "source": [
    "# Viewing  a summary of the dataset\n",
    "possum_data.info()"
   ]
  },
  {
   "cell_type": "code",
   "execution_count": 140,
   "id": "a5bb9556",
   "metadata": {},
   "outputs": [
    {
     "name": "stdout",
     "output_type": "stream",
     "text": [
      "case        0\n",
      "site        0\n",
      "Pop         0\n",
      "sex         0\n",
      "age         2\n",
      "hdlngth     0\n",
      "skullw      0\n",
      "totlngth    0\n",
      "taill       0\n",
      "footlgth    1\n",
      "earconch    0\n",
      "eye         0\n",
      "chest       0\n",
      "belly       0\n",
      "dtype: int64\n"
     ]
    }
   ],
   "source": [
    "# checking for missing values\n",
    "possum_data[possum_data.isna().any(axis=1)] # Check for rows with any missing values\n",
    "print(possum_data.isna().sum())  # Check for missing values in each column\n"
   ]
  },
  {
   "cell_type": "code",
   "execution_count": 141,
   "id": "42cd8ca8",
   "metadata": {},
   "outputs": [
    {
     "name": "stdout",
     "output_type": "stream",
     "text": [
      "age         2\n",
      "footlgth    1\n",
      "site        0\n",
      "Pop         0\n",
      "sex         0\n",
      "case        0\n",
      "hdlngth     0\n",
      "skullw      0\n",
      "totlngth    0\n",
      "taill       0\n",
      "dtype: int64\n"
     ]
    },
    {
     "data": {
      "image/png": "[encoded data removed]",
      "text/plain": [
       "<Figure size 2500x1000 with 2 Axes>"
      ]
     },
     "metadata": {},
     "output_type": "display_data"
    }
   ],
   "source": [
    "# Visualizing missing values using missingno\n",
    "import missingno as msno   # pip install missingno\n",
    "msno.matrix(possum_data)            # visual heat-map\n",
    "print(possum_data.isna().sum().sort_values(ascending=False).head(10))  # top-10 miss counts"
   ]
  },
  {
   "cell_type": "markdown",
   "id": "977ccd5f",
   "metadata": {},
   "source": [
    "## 2 numerical columns have missing values :\n",
    "* 2 rows in age\n",
    "* 1 value in footlength\n",
    "\n",
    "## How do i handle this? I have 3 options\n",
    "* drop the rows - lose information, but no bias is introduced\n",
    "* replace the value with zero -  \n",
    "* replace the vale with the median - kepp rows,  but don’t fake the values\n"
   ]
  },
  {
   "cell_type": "code",
   "execution_count": 142,
   "id": "80f69a20",
   "metadata": {},
   "outputs": [
    {
     "name": "stdout",
     "output_type": "stream",
     "text": [
      "Missing values handled\n"
     ]
    },
    {
     "data": {
      "text/plain": [
       "104"
      ]
     },
     "execution_count": 142,
     "metadata": {},
     "output_type": "execute_result"
    }
   ],
   "source": [
    "# replacing the missing values with the median of the column\n",
    "possum_data.fillna(possum_data.median(numeric_only=True), inplace=True)\n",
    "#possum_data['age'].fillna(possum_data['age'].median(), inplace=True)\n",
    "#possum_data['footlength'].fillna(possum_data['footlength'].median(), inplace=True)\n",
    "print(\"Missing values handled\")\n",
    "possum_data.shape[0]  # Check the number of rows after handling missing values"
   ]
  },
  {
   "cell_type": "code",
   "execution_count": 143,
   "id": "7f281de2",
   "metadata": {},
   "outputs": [
    {
     "name": "stdout",
     "output_type": "stream",
     "text": [
      "case        0\n",
      "site        0\n",
      "Pop         0\n",
      "sex         0\n",
      "age         0\n",
      "hdlngth     0\n",
      "skullw      0\n",
      "totlngth    0\n",
      "taill       0\n",
      "footlgth    0\n",
      "dtype: int64\n"
     ]
    },
    {
     "data": {
      "image/png": "[encoded data removed]",
      "text/plain": [
       "<Figure size 2500x1000 with 2 Axes>"
      ]
     },
     "metadata": {},
     "output_type": "display_data"
    }
   ],
   "source": [
    "# Visualizing missing values again using missingno to confirm all missing values are handled\n",
    "msno.matrix(possum_data)            # visual heat-map\n",
    "print(possum_data.isna().sum().sort_values(ascending=False).head(10))  # top-10 miss counts"
   ]
  },
  {
   "cell_type": "code",
   "execution_count": 144,
   "id": "926e4665",
   "metadata": {},
   "outputs": [],
   "source": [
    "# removing missing values\n",
    "   # possum_data = possum_data.dropna()  # Drop rows with any missing values\n",
    "    #print(\"Missing values handled\")\n",
    " #   possum_data.reset_index(drop=True, inplace=True) #Reset index after dropping rows\n",
    "  #  print(\"Index reset successfully\")\n",
    "   # possum_data.shape[0]  # Check the number of rows after dropping missing values"
   ]
  },
  {
   "cell_type": "code",
   "execution_count": 145,
   "id": "0f164be3",
   "metadata": {},
   "outputs": [
    {
     "data": {
      "text/html": [
       "<div>\n",
       "<style scoped>\n",
       "    .dataframe tbody tr th:only-of-type {\n",
       "        vertical-align: middle;\n",
       "    }\n",
       "\n",
       "    .dataframe tbody tr th {\n",
       "        vertical-align: top;\n",
       "    }\n",
       "\n",
       "    .dataframe thead th {\n",
       "        text-align: right;\n",
       "    }\n",
       "</style>\n",
       "<table border=\"1\" class=\"dataframe\">\n",
       "  <thead>\n",
       "    <tr style=\"text-align: right;\">\n",
       "      <th></th>\n",
       "      <th>case</th>\n",
       "      <th>site</th>\n",
       "      <th>Pop</th>\n",
       "      <th>sex</th>\n",
       "      <th>age</th>\n",
       "      <th>hdlngth</th>\n",
       "      <th>skullw</th>\n",
       "      <th>totlngth</th>\n",
       "      <th>taill</th>\n",
       "      <th>footlgth</th>\n",
       "      <th>earconch</th>\n",
       "      <th>eye</th>\n",
       "      <th>chest</th>\n",
       "      <th>belly</th>\n",
       "    </tr>\n",
       "  </thead>\n",
       "  <tbody>\n",
       "    <tr>\n",
       "      <th>0</th>\n",
       "      <td>1</td>\n",
       "      <td>1</td>\n",
       "      <td>Vic</td>\n",
       "      <td>m</td>\n",
       "      <td>8.0</td>\n",
       "      <td>94.1</td>\n",
       "      <td>60.4</td>\n",
       "      <td>89.0</td>\n",
       "      <td>36.0</td>\n",
       "      <td>74.5</td>\n",
       "      <td>54.5</td>\n",
       "      <td>15.2</td>\n",
       "      <td>28.0</td>\n",
       "      <td>36.0</td>\n",
       "    </tr>\n",
       "    <tr>\n",
       "      <th>1</th>\n",
       "      <td>2</td>\n",
       "      <td>1</td>\n",
       "      <td>Vic</td>\n",
       "      <td>f</td>\n",
       "      <td>6.0</td>\n",
       "      <td>92.5</td>\n",
       "      <td>57.6</td>\n",
       "      <td>91.5</td>\n",
       "      <td>36.5</td>\n",
       "      <td>72.5</td>\n",
       "      <td>51.2</td>\n",
       "      <td>16.0</td>\n",
       "      <td>28.5</td>\n",
       "      <td>33.0</td>\n",
       "    </tr>\n",
       "    <tr>\n",
       "      <th>2</th>\n",
       "      <td>3</td>\n",
       "      <td>1</td>\n",
       "      <td>Vic</td>\n",
       "      <td>f</td>\n",
       "      <td>6.0</td>\n",
       "      <td>94.0</td>\n",
       "      <td>60.0</td>\n",
       "      <td>95.5</td>\n",
       "      <td>39.0</td>\n",
       "      <td>75.4</td>\n",
       "      <td>51.9</td>\n",
       "      <td>15.5</td>\n",
       "      <td>30.0</td>\n",
       "      <td>34.0</td>\n",
       "    </tr>\n",
       "    <tr>\n",
       "      <th>3</th>\n",
       "      <td>4</td>\n",
       "      <td>1</td>\n",
       "      <td>Vic</td>\n",
       "      <td>f</td>\n",
       "      <td>6.0</td>\n",
       "      <td>93.2</td>\n",
       "      <td>57.1</td>\n",
       "      <td>92.0</td>\n",
       "      <td>38.0</td>\n",
       "      <td>76.1</td>\n",
       "      <td>52.2</td>\n",
       "      <td>15.2</td>\n",
       "      <td>28.0</td>\n",
       "      <td>34.0</td>\n",
       "    </tr>\n",
       "    <tr>\n",
       "      <th>4</th>\n",
       "      <td>5</td>\n",
       "      <td>1</td>\n",
       "      <td>Vic</td>\n",
       "      <td>f</td>\n",
       "      <td>2.0</td>\n",
       "      <td>91.5</td>\n",
       "      <td>56.3</td>\n",
       "      <td>85.5</td>\n",
       "      <td>36.0</td>\n",
       "      <td>71.0</td>\n",
       "      <td>53.2</td>\n",
       "      <td>15.1</td>\n",
       "      <td>28.5</td>\n",
       "      <td>33.0</td>\n",
       "    </tr>\n",
       "  </tbody>\n",
       "</table>\n",
       "</div>"
      ],
      "text/plain": [
       "   case  site  Pop sex  age  hdlngth  skullw  totlngth  taill  footlgth  \\\n",
       "0     1     1  Vic   m  8.0     94.1    60.4      89.0   36.0      74.5   \n",
       "1     2     1  Vic   f  6.0     92.5    57.6      91.5   36.5      72.5   \n",
       "2     3     1  Vic   f  6.0     94.0    60.0      95.5   39.0      75.4   \n",
       "3     4     1  Vic   f  6.0     93.2    57.1      92.0   38.0      76.1   \n",
       "4     5     1  Vic   f  2.0     91.5    56.3      85.5   36.0      71.0   \n",
       "\n",
       "   earconch   eye  chest  belly  \n",
       "0      54.5  15.2   28.0   36.0  \n",
       "1      51.2  16.0   28.5   33.0  \n",
       "2      51.9  15.5   30.0   34.0  \n",
       "3      52.2  15.2   28.0   34.0  \n",
       "4      53.2  15.1   28.5   33.0  "
      ]
     },
     "execution_count": 145,
     "metadata": {},
     "output_type": "execute_result"
    }
   ],
   "source": [
    "# taking a snapshop of the cleaned data\n",
    "possum_data.head()"
   ]
  },
  {
   "cell_type": "code",
   "execution_count": 146,
   "id": "a5656246",
   "metadata": {},
   "outputs": [
    {
     "data": {
      "text/html": [
       "<div>\n",
       "<style scoped>\n",
       "    .dataframe tbody tr th:only-of-type {\n",
       "        vertical-align: middle;\n",
       "    }\n",
       "\n",
       "    .dataframe tbody tr th {\n",
       "        vertical-align: top;\n",
       "    }\n",
       "\n",
       "    .dataframe thead th {\n",
       "        text-align: right;\n",
       "    }\n",
       "</style>\n",
       "<table border=\"1\" class=\"dataframe\">\n",
       "  <thead>\n",
       "    <tr style=\"text-align: right;\">\n",
       "      <th></th>\n",
       "      <th>case</th>\n",
       "      <th>site</th>\n",
       "      <th>Pop</th>\n",
       "      <th>sex</th>\n",
       "      <th>age</th>\n",
       "      <th>hdlngth</th>\n",
       "      <th>skullw</th>\n",
       "      <th>totlngth</th>\n",
       "      <th>taill</th>\n",
       "      <th>footlgth</th>\n",
       "      <th>earconch</th>\n",
       "      <th>eye</th>\n",
       "      <th>chest</th>\n",
       "      <th>belly</th>\n",
       "    </tr>\n",
       "  </thead>\n",
       "  <tbody>\n",
       "    <tr>\n",
       "      <th>99</th>\n",
       "      <td>100</td>\n",
       "      <td>7</td>\n",
       "      <td>other</td>\n",
       "      <td>m</td>\n",
       "      <td>1.0</td>\n",
       "      <td>89.5</td>\n",
       "      <td>56.0</td>\n",
       "      <td>81.5</td>\n",
       "      <td>36.5</td>\n",
       "      <td>66.0</td>\n",
       "      <td>46.8</td>\n",
       "      <td>14.8</td>\n",
       "      <td>23.0</td>\n",
       "      <td>27.0</td>\n",
       "    </tr>\n",
       "    <tr>\n",
       "      <th>100</th>\n",
       "      <td>101</td>\n",
       "      <td>7</td>\n",
       "      <td>other</td>\n",
       "      <td>m</td>\n",
       "      <td>1.0</td>\n",
       "      <td>88.6</td>\n",
       "      <td>54.7</td>\n",
       "      <td>82.5</td>\n",
       "      <td>39.0</td>\n",
       "      <td>64.4</td>\n",
       "      <td>48.0</td>\n",
       "      <td>14.0</td>\n",
       "      <td>25.0</td>\n",
       "      <td>33.0</td>\n",
       "    </tr>\n",
       "    <tr>\n",
       "      <th>101</th>\n",
       "      <td>102</td>\n",
       "      <td>7</td>\n",
       "      <td>other</td>\n",
       "      <td>f</td>\n",
       "      <td>6.0</td>\n",
       "      <td>92.4</td>\n",
       "      <td>55.0</td>\n",
       "      <td>89.0</td>\n",
       "      <td>38.0</td>\n",
       "      <td>63.5</td>\n",
       "      <td>45.4</td>\n",
       "      <td>13.0</td>\n",
       "      <td>25.0</td>\n",
       "      <td>30.0</td>\n",
       "    </tr>\n",
       "    <tr>\n",
       "      <th>102</th>\n",
       "      <td>103</td>\n",
       "      <td>7</td>\n",
       "      <td>other</td>\n",
       "      <td>m</td>\n",
       "      <td>4.0</td>\n",
       "      <td>91.5</td>\n",
       "      <td>55.2</td>\n",
       "      <td>82.5</td>\n",
       "      <td>36.5</td>\n",
       "      <td>62.9</td>\n",
       "      <td>45.9</td>\n",
       "      <td>15.4</td>\n",
       "      <td>25.0</td>\n",
       "      <td>29.0</td>\n",
       "    </tr>\n",
       "    <tr>\n",
       "      <th>103</th>\n",
       "      <td>104</td>\n",
       "      <td>7</td>\n",
       "      <td>other</td>\n",
       "      <td>f</td>\n",
       "      <td>3.0</td>\n",
       "      <td>93.6</td>\n",
       "      <td>59.9</td>\n",
       "      <td>89.0</td>\n",
       "      <td>40.0</td>\n",
       "      <td>67.6</td>\n",
       "      <td>46.0</td>\n",
       "      <td>14.8</td>\n",
       "      <td>28.5</td>\n",
       "      <td>33.5</td>\n",
       "    </tr>\n",
       "  </tbody>\n",
       "</table>\n",
       "</div>"
      ],
      "text/plain": [
       "     case  site    Pop sex  age  hdlngth  skullw  totlngth  taill  footlgth  \\\n",
       "99    100     7  other   m  1.0     89.5    56.0      81.5   36.5      66.0   \n",
       "100   101     7  other   m  1.0     88.6    54.7      82.5   39.0      64.4   \n",
       "101   102     7  other   f  6.0     92.4    55.0      89.0   38.0      63.5   \n",
       "102   103     7  other   m  4.0     91.5    55.2      82.5   36.5      62.9   \n",
       "103   104     7  other   f  3.0     93.6    59.9      89.0   40.0      67.6   \n",
       "\n",
       "     earconch   eye  chest  belly  \n",
       "99       46.8  14.8   23.0   27.0  \n",
       "100      48.0  14.0   25.0   33.0  \n",
       "101      45.4  13.0   25.0   30.0  \n",
       "102      45.9  15.4   25.0   29.0  \n",
       "103      46.0  14.8   28.5   33.5  "
      ]
     },
     "execution_count": 146,
     "metadata": {},
     "output_type": "execute_result"
    }
   ],
   "source": [
    "# taking a snapshop of the cleaned data\n",
    "\n",
    "possum_data.tail()"
   ]
  },
  {
   "cell_type": "code",
   "execution_count": 147,
   "id": "f20250e0",
   "metadata": {},
   "outputs": [
    {
     "name": "stdout",
     "output_type": "stream",
     "text": [
      "Number of duplicate rows: 0\n"
     ]
    }
   ],
   "source": [
    "# checking for duplicates\n",
    "duplicates = possum_data.duplicated()   # Check for duplicate rows\n",
    "print(f\"Number of duplicate rows: {duplicates.sum()}\")  # Print the number of duplicate rows"
   ]
  },
  {
   "cell_type": "markdown",
   "id": "35b80c89",
   "metadata": {},
   "source": [
    "# Performing statistical analysis"
   ]
  },
  {
   "cell_type": "code",
   "execution_count": 148,
   "id": "e0e179c2",
   "metadata": {},
   "outputs": [
    {
     "name": "stdout",
     "output_type": "stream",
     "text": [
      "          Pop  sex\n",
      "count     104  104\n",
      "unique      2    2\n",
      "top     other    m\n",
      "freq       58   61\n"
     ]
    }
   ],
   "source": [
    "# Getting the descriptive statistics for categorical columns\n",
    "categorical_cols = possum_data.select_dtypes(include=['object', 'category']).columns\n",
    "print(possum_data[categorical_cols].describe(include='all').round(2))\n",
    "\n",
    "\n"
   ]
  },
  {
   "cell_type": "code",
   "execution_count": 149,
   "id": "fd06bb09",
   "metadata": {},
   "outputs": [
    {
     "name": "stdout",
     "output_type": "stream",
     "text": [
      "{'Pop':        Count  Percentage\n",
      "Pop                     \n",
      "other     58       55.77\n",
      "Vic       46       44.23, 'sex':      Count  Percentage\n",
      "sex                   \n",
      "m       61       58.65\n",
      "f       43       41.35}\n",
      "\n"
     ]
    }
   ],
   "source": [
    "# Custom summary for categorical columns (fixed version)\n",
    "\n",
    "# Select only the categorical columns from possum_data\n",
    "\n",
    "categorical_cols = possum_data.select_dtypes(include=['object', 'category'])\n",
    "\n",
    "def categorical_summar(categorical_cols):\n",
    "    summaries = {}\n",
    "    for col in categorical_cols.columns:\n",
    "        counts = categorical_cols[col].value_counts(dropna=False)\n",
    "        percentages = categorical_cols[col].value_counts(normalize=True, dropna=False) * 100\n",
    "        summary = pd.DataFrame({\"Count\": counts, \"Percentage\": percentages.round(2)})\n",
    "        summaries[col] = summary\n",
    "    return summaries\n",
    "\n",
    "cat_stats = categorical_summar(categorical_cols)\n",
    "cat_stats\n",
    "print(cat_stats)\n",
    "print(f'')"
   ]
  },
  {
   "cell_type": "markdown",
   "id": "b8460405",
   "metadata": {},
   "source": [
    "\n",
    "### Insight into categorical variable \n",
    "There are two categorical data: sex and pop\n",
    "\n",
    "there are more male possom sampled at  58.65% than sampled female possom at 41.35%\n",
    "In terms of population, Others are more represented at 55.77% than VIc at 44.33%\n",
    "\n"
   ]
  },
  {
   "cell_type": "code",
   "execution_count": 150,
   "id": "3b2927f7",
   "metadata": {},
   "outputs": [
    {
     "name": "stdout",
     "output_type": "stream",
     "text": [
      "         case    site     age  hdlngth  skullw  totlngth   taill  footlgth  \\\n",
      "count  104.00  104.00  104.00   104.00  104.00    104.00  104.00    104.00   \n",
      "mean    52.50    3.62    3.82    92.60   56.88     87.09   37.01     68.45   \n",
      "std     30.17    2.35    1.89     3.57    3.11      4.31    1.96      4.37   \n",
      "min      1.00    1.00    1.00    82.50   50.00     75.00   32.00     60.30   \n",
      "25%     26.75    1.00    2.75    90.68   54.98     84.00   35.88     64.65   \n",
      "50%     52.50    3.00    3.00    92.80   56.35     88.00   37.00     68.00   \n",
      "75%     78.25    6.00    5.00    94.72   58.10     90.00   38.00     72.50   \n",
      "max    104.00    7.00    9.00   103.10   68.60     96.50   43.00     77.90   \n",
      "\n",
      "       earconch     eye   chest   belly  \n",
      "count    104.00  104.00  104.00  104.00  \n",
      "mean      48.13   15.05   27.00   32.59  \n",
      "std        4.11    1.05    2.05    2.76  \n",
      "min       40.30   12.80   22.00   25.00  \n",
      "25%       44.80   14.40   25.50   31.00  \n",
      "50%       46.80   14.90   27.00   32.50  \n",
      "75%       52.00   15.72   28.00   34.12  \n",
      "max       56.20   17.80   32.00   40.00  \n"
     ]
    }
   ],
   "source": [
    "# getting the descriptive statistics for numerical columns\n",
    "numerical_cols = possum_data.select_dtypes(include=['number']).columns\n",
    "print(possum_data[numerical_cols].describe().round(2))"
   ]
  },
  {
   "cell_type": "markdown",
   "id": "8ef668eb",
   "metadata": {},
   "source": [
    "### Insight from the descriptive Statistics\n",
    "* Age is skewed toward younger individuals (mean and median both under 4)\n",
    "* Some traits like head length and tail length have low variability (low standard deviation compared to the mean)\n",
    "* Some other traits like belly width, chest width, have higher variability\n"
   ]
  },
  {
   "cell_type": "code",
   "execution_count": 161,
   "id": "72ae8dec",
   "metadata": {},
   "outputs": [
    {
     "name": "stdout",
     "output_type": "stream",
     "text": [
      "case: 0 outliers detected\n",
      "[]\n",
      "site: 0 outliers detected\n",
      "[]\n",
      "age: 2 outliers detected\n",
      "[9. 9.]\n",
      "hdlngth: 3 outliers detected\n",
      "[103.1 102.5  82.5]\n",
      "skullw: 8 outliers detected\n",
      "[67.7 63.2 63.  63.2 64.2 62.8 50.  68.6]\n",
      "totlngth: 0 outliers detected\n",
      "[]\n",
      "taill: 4 outliers detected\n",
      "[32.  32.  43.  41.5]\n",
      "footlgth: 0 outliers detected\n",
      "[]\n",
      "earconch: 0 outliers detected\n",
      "[]\n",
      "eye: 1 outliers detected\n",
      "[17.8]\n",
      "chest: 1 outliers detected\n",
      "[32.]\n",
      "belly: 3 outliers detected\n",
      "[40. 25. 39.]\n"
     ]
    }
   ],
   "source": [
    "# Outliers detection using Interquartile Range (IQR)\n",
    "for col in numerical_cols:\n",
    "    Q1 = possum_data[col].quantile(0.25)\n",
    "    Q3 = possum_data[col].quantile(0.75)\n",
    "    IQR = Q3 - Q1\n",
    "    lower_bound = Q1 - 1.5 * IQR\n",
    "    upper_bound = Q3 + 1.5 * IQR\n",
    "    outliers = possum_data[(possum_data[col] < lower_bound) | (possum_data[col] > upper_bound)][col]\n",
    "    print(f\"{col}: {len(outliers)} outliers detected\")\n",
    "    print(outliers.values)"
   ]
  },
  {
   "cell_type": "code",
   "execution_count": 159,
   "id": "68cf873b",
   "metadata": {},
   "outputs": [
    {
     "data": {
      "image/png": "[encoded data removed]",
      "text/plain": [
       "<Figure size 600x400 with 1 Axes>"
      ]
     },
     "metadata": {},
     "output_type": "display_data"
    },
    {
     "data": {
      "image/png": "[encoded data removed]",
      "text/plain": [
       "<Figure size 600x400 with 1 Axes>"
      ]
     },
     "metadata": {},
     "output_type": "display_data"
    },
    {
     "data": {
      "image/png": "[encoded data removed]",
      "text/plain": [
       "<Figure size 600x400 with 1 Axes>"
      ]
     },
     "metadata": {},
     "output_type": "display_data"
    },
    {
     "data": {
      "image/png": "[encoded data removed]",
      "text/plain": [
       "<Figure size 600x400 with 1 Axes>"
      ]
     },
     "metadata": {},
     "output_type": "display_data"
    },
    {
     "data": {
      "image/png": "[encoded data removed]",
      "text/plain": [
       "<Figure size 600x400 with 1 Axes>"
      ]
     },
     "metadata": {},
     "output_type": "display_data"
    },
    {
     "data": {
      "image/png": "[encoded data removed]",
      "text/plain": [
       "<Figure size 600x400 with 1 Axes>"
      ]
     },
     "metadata": {},
     "output_type": "display_data"
    },
    {
     "data": {
      "image/png": "[encoded data removed]",
      "text/plain": [
       "<Figure size 600x400 with 1 Axes>"
      ]
     },
     "metadata": {},
     "output_type": "display_data"
    },
    {
     "data": {
      "image/png": "[encoded data removed]",
      "text/plain": [
       "<Figure size 600x400 with 1 Axes>"
      ]
     },
     "metadata": {},
     "output_type": "display_data"
    },
    {
     "data": {
      "image/png": "[encoded data removed]",
      "text/plain": [
       "<Figure size 600x400 with 1 Axes>"
      ]
     },
     "metadata": {},
     "output_type": "display_data"
    },
    {
     "data": {
      "image/png": "[encoded data removed]",
      "text/plain": [
       "<Figure size 600x400 with 1 Axes>"
      ]
     },
     "metadata": {},
     "output_type": "display_data"
    },
    {
     "data": {
      "image/png": "[encoded data removed]",
      "text/plain": [
       "<Figure size 600x400 with 1 Axes>"
      ]
     },
     "metadata": {},
     "output_type": "display_data"
    },
    {
     "data": {
      "image/png": "[encoded data removed]",
      "text/plain": [
       "<Figure size 600x400 with 1 Axes>"
      ]
     },
     "metadata": {},
     "output_type": "display_data"
    }
   ],
   "source": [
    "# Outlier detection using boxplots\n",
    "for col in numerical_cols:\n",
    "    plt.figure(figsize=(6, 4))\n",
    "    sns.boxplot(x=possum_data[col])\n",
    "    plt.title(f'Boxplot of {col}')\n",
    "    plt.show()"
   ]
  }
 ],
 "metadata": {
  "kernelspec": {
   "display_name": "Python 3",
   "language": "python",
   "name": "python3"
  },
  "language_info": {
   "codemirror_mode": {
    "name": "ipython",
    "version": 3
   },
   "file_extension": ".py",
   "mimetype": "text/x-python",
   "name": "python",
   "nbconvert_exporter": "python",
   "pygments_lexer": "ipython3",
   "version": "3.13.5"
  }
 },
 "nbformat": 4,
 "nbformat_minor": 5
}
