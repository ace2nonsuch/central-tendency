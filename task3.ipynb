{
 "cells": [
  {
   "cell_type": "code",
   "execution_count": null,
   "id": "9de7129a",
   "metadata": {},
   "outputs": [],
   "source": []
  },
  {
   "cell_type": "markdown",
   "id": "53dc501e",
   "metadata": {},
   "source": [
    "# Variance\n",
    "\n",
    "data : 4, 8, 6, 5, 3 \n",
    "\n",
    "finding the  mean = (4+8+6+5+3)/5  = 5.2\n",
    "\n",
    "# Calculating the deviation = \n",
    "5.2-4= 1.2\n",
    "5.2-8= -2.8\n",
    "5.2-8 =-0.8\n",
    "5.2-4= 0.2\n",
    "5.2-3= 2.2\n",
    "\n",
    "# Squaring the deviations\n",
    "1.44\n",
    "7.84\n",
    "0.64\n",
    "0.04\n",
    "4.84\n",
    "\n",
    "\n",
    "\n",
    "# Finding the average of the squared deviation gives us the variance\n",
    "(1.44 + 7.84 + 0.64 + 0.04 + 4.84)/5 = 14.8/5  = 2.96"
   ]
  },
  {
   "cell_type": "markdown",
   "id": "3ff510b0",
   "metadata": {},
   "source": []
  }
 ],
 "metadata": {
  "language_info": {
   "name": "python"
  }
 },
 "nbformat": 4,
 "nbformat_minor": 5
}
